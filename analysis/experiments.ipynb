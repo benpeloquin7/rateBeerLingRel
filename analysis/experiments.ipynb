{
 "cells": [
  {
   "cell_type": "markdown",
   "metadata": {},
   "source": [
    "__Experiments__"
   ]
  },
  {
   "cell_type": "code",
   "execution_count": 265,
   "metadata": {
    "collapsed": false
   },
   "outputs": [],
   "source": [
    "import pandas as pd\n",
    "import numpy as np\n",
    "import nltk\n",
    "from sklearn.feature_extraction import DictVectorizer\n",
    "from collections import Counter\n",
    "from sklearn.cross_validation import train_test_split\n",
    "from sklearn.linear_model import LinearRegression\n",
    "from sklearn.linear_model import Lasso\n",
    "from sklearn.metrics import mean_squared_error\n",
    "from sklearn.ensemble import GradientBoostingRegressor\n",
    "import scipy.stats"
   ]
  },
  {
   "cell_type": "code",
   "execution_count": 108,
   "metadata": {
    "collapsed": false
   },
   "outputs": [],
   "source": [
    "data_path = '../data/clean_data_full.csv'\n",
    "df = pd.read_csv(data_path)"
   ]
  },
  {
   "cell_type": "code",
   "execution_count": 109,
   "metadata": {
    "collapsed": false
   },
   "outputs": [
    {
     "name": "stdout",
     "output_type": "stream",
     "text": [
      "<class 'pandas.core.frame.DataFrame'>\n",
      "Int64Index: 51832 entries, 0 to 51831\n",
      "Data columns (total 31 columns):\n",
      "Unnamed: 0                  51832 non-null int64\n",
      "user_num_places_rated       51832 non-null int64\n",
      "user_num_following          51832 non-null int64\n",
      "user_url                    51832 non-null object\n",
      "beer_num_ratings            51832 non-null int64\n",
      "user_num_friends            51832 non-null int64\n",
      "user_num_breweries_rated    51832 non-null int64\n",
      "review_palate_score         51832 non-null int64\n",
      "review_taste_score          51832 non-null int64\n",
      "user_num_ratings            51832 non-null int64\n",
      "review_ratings_blob         51832 non-null object\n",
      "review_aroma_score          51832 non-null int64\n",
      "user_num_countries_rated    51832 non-null int64\n",
      "user_id                     51832 non-null int64\n",
      "review_avg_score            51832 non-null float64\n",
      "beer_global_style_score     47253 non-null float64\n",
      "beer_weighted_avg_score     51760 non-null float64\n",
      "beer_brewer_name            51832 non-null object\n",
      "review_overall_score        51832 non-null int64\n",
      "user_location               44469 non-null object\n",
      "review_appearance_score     51832 non-null int64\n",
      "beer_num_calories           50827 non-null float64\n",
      "beer_style                  51832 non-null object\n",
      "beer_url                    51832 non-null object\n",
      "review_blob                 51832 non-null object\n",
      "beer_global_score           46963 non-null float64\n",
      "user_name                   51822 non-null object\n",
      "beer_location               51832 non-null object\n",
      "beer_ABV                    50971 non-null object\n",
      "beer_name                   51832 non-null object\n",
      "beer_ABV_num                50971 non-null float64\n",
      "dtypes: float64(6), int64(14), object(11)\n",
      "memory usage: 12.7+ MB\n"
     ]
    }
   ],
   "source": [
    "df.info()"
   ]
  },
  {
   "cell_type": "code",
   "execution_count": 140,
   "metadata": {
    "collapsed": false
   },
   "outputs": [
    {
     "data": {
      "text/plain": [
       "51832"
      ]
     },
     "execution_count": 140,
     "metadata": {},
     "output_type": "execute_result"
    }
   ],
   "source": [
    "## Num rows\n",
    "len(df)"
   ]
  },
  {
   "cell_type": "code",
   "execution_count": 151,
   "metadata": {
    "collapsed": false
   },
   "outputs": [
    {
     "data": {
      "text/plain": [
       "100"
      ]
     },
     "execution_count": 151,
     "metadata": {},
     "output_type": "execute_result"
    }
   ],
   "source": [
    "mini_train_d = df[0:100]"
   ]
  },
  {
   "cell_type": "code",
   "execution_count": 156,
   "metadata": {
    "collapsed": false
   },
   "outputs": [
    {
     "name": "stdout",
     "output_type": "stream",
     "text": [
      "78\n",
      "22\n"
     ]
    }
   ],
   "source": [
    "## Basic test (0.2) train (0.8) split\n",
    "def train_test_split(df, proportion):\n",
    "    msk = np.random.rand(len(df)) < proportion\n",
    "    train = df[msk]\n",
    "    test = df[~msk]\n",
    "    return train, test\n",
    "\n",
    "train, test = train_test_split(mini_train_d, 0.8)\n",
    "print len(train)\n",
    "print len(test)"
   ]
  },
  {
   "cell_type": "markdown",
   "metadata": {},
   "source": [
    "# Feature Engineering"
   ]
  },
  {
   "cell_type": "code",
   "execution_count": 282,
   "metadata": {
    "collapsed": false
   },
   "outputs": [],
   "source": [
    "def unigram_phi(review):\n",
    "    return Counter(review.split())\n",
    "def bigram_phi(review):\n",
    "    return Counter(nltk.bigrams(review.split()))\n",
    "def unigram_bigram_phi(review):\n",
    "    return unigram_phi(review) + bigram_phi(review)\n",
    "def trigram_phi(review):\n",
    "    return Counter(nltk.trigrams(review.split()))"
   ]
  },
  {
   "cell_type": "code",
   "execution_count": 192,
   "metadata": {
    "collapsed": false
   },
   "outputs": [],
   "source": [
    "def build_data_set(data, phi, vectorizer = None):\n",
    "    REVIEW_BLOB = 24\n",
    "    TASTE_SCORE = 8\n",
    "    labels = []\n",
    "    feat_dicts = []\n",
    "    raw_examples = []\n",
    "    data_values = data.values\n",
    "    for row in data.values:\n",
    "        review, score = row[REVIEW_BLOB], row[TASTE_SCORE]\n",
    "        if not isinstance(review, basestring):\n",
    "            print 'weird review:\\t', review\n",
    "        feat_dicts.append(phi(review))\n",
    "        labels.append(score)\n",
    "        raw_examples.append(review)\n",
    "        \n",
    "    # In training, we want a new vectorizer:    \n",
    "    if vectorizer == None:\n",
    "        vectorizer = DictVectorizer(sparse=True)\n",
    "        feat_matrix = vectorizer.fit_transform(feat_dicts)\n",
    "    # In assessment, we featurize using the existing vectorizer:\n",
    "    else:\n",
    "        feat_matrix = vectorizer.transform(feat_dicts)\n",
    "\n",
    "    return {'X': feat_matrix, \n",
    "            'y': labels, \n",
    "            'vectorizer': vectorizer, \n",
    "            'raw_examples': raw_examples}"
   ]
  },
  {
   "cell_type": "code",
   "execution_count": 193,
   "metadata": {
    "collapsed": false
   },
   "outputs": [
    {
     "data": {
      "text/plain": [
       "(22, 564)"
      ]
     },
     "execution_count": 193,
     "metadata": {},
     "output_type": "execute_result"
    }
   ],
   "source": [
    "d_train = build_data_set(train, bigram_phi)\n",
    "d_test = build_data_set(test, bigram_phi)\n",
    "d_test['X'].shape"
   ]
  },
  {
   "cell_type": "code",
   "execution_count": 194,
   "metadata": {
    "collapsed": true
   },
   "outputs": [],
   "source": [
    "def fit_linear_regression(X, y):    \n",
    "    \"\"\"\n",
    "    Linear Regression\n",
    "    \"\"\"\n",
    "    mod = LinearRegression(fit_intercept=True)\n",
    "    mod.fit(X, y)\n",
    "    return mod"
   ]
  },
  {
   "cell_type": "code",
   "execution_count": 232,
   "metadata": {
    "collapsed": true
   },
   "outputs": [],
   "source": [
    "def fit_gbm_regression(X, y,\n",
    "                       n_estimators = 100,\n",
    "                       learning_rate = 0.1,\n",
    "                       max_depth = 1,\n",
    "                       random_state = 0,\n",
    "                       loss = \"ls\"):\n",
    "    \"\"\"\n",
    "    Gradient Boosting Method Regression\n",
    "    \"\"\"\n",
    "    gbm = GradientBoostingRegressor(n_estimators = n_estimators,\n",
    "                                    learning_rate = learning_rate,\n",
    "                                    max_depth = max_depth,\n",
    "                                    random_state = random_state,\n",
    "                                    loss = \"ls\")\n",
    "    mod = gbm.fit(X.toarray(), y)\n",
    "    return mod"
   ]
  },
  {
   "cell_type": "code",
   "execution_count": 253,
   "metadata": {
    "collapsed": true
   },
   "outputs": [],
   "source": [
    "def fit_lasso(X, y, alpha = 0.1, max_iter = 1000):\n",
    "    lasso = Lasso(alpha = alpha, max_iter = max_iter)\n",
    "    mod = lasso.fit(X, y)\n",
    "    return mod"
   ]
  },
  {
   "cell_type": "code",
   "execution_count": 254,
   "metadata": {
    "collapsed": false
   },
   "outputs": [],
   "source": [
    "def experiment(data, model, phi, train_size = 0.7):\n",
    "    ## Build data set\n",
    "    train = build_data_set(data, phi)\n",
    "    X_train = train['X']\n",
    "    y_train = train['y']\n",
    "\n",
    "    ## Test-train split\n",
    "    X_train, X_assess, y_train, y_assess = train_test_split(\n",
    "            X_train, y_train, train_size = train_size)\n",
    "    \n",
    "    ## Model data\n",
    "    mod = model(X_train, y_train)\n",
    "    predictions = mod.predict(X_assess.toarray())\n",
    "    \n",
    "    ## Return MSE\n",
    "    return mean_squared_error(y_assess, predictions)\n",
    "    "
   ]
  },
  {
   "cell_type": "code",
   "execution_count": 255,
   "metadata": {
    "collapsed": false
   },
   "outputs": [
    {
     "data": {
      "text/plain": [
       "4.9835614802792101"
      ]
     },
     "execution_count": 255,
     "metadata": {},
     "output_type": "execute_result"
    }
   ],
   "source": [
    "experiment(train, fit_gbm_regression, bigram_phi)"
   ]
  },
  {
   "cell_type": "code",
   "execution_count": 256,
   "metadata": {
    "collapsed": true
   },
   "outputs": [],
   "source": [
    "learners = [fit_linear_regression, fit_lasso, fit_gbm_regression]\n",
    "phis = [unigram_phi, bigram_phi, unigram_bigram_phi]"
   ]
  },
  {
   "cell_type": "code",
   "execution_count": 257,
   "metadata": {
    "collapsed": false
   },
   "outputs": [
    {
     "name": "stdout",
     "output_type": "stream",
     "text": [
      "=============================\n",
      "Fitting:\tfit_linear_regression\n",
      "-------\n",
      "phi:\tunigram_phi\n",
      "mse:\t3.62147174996\n",
      "-------\n",
      "phi:\tbigram_phi\n",
      "mse:\t5.85069689964\n",
      "-------\n",
      "phi:\tunigram_bigram_phi\n",
      "mse:\t4.14539017663\n",
      "=============================\n",
      "Fitting:\tfit_lasso\n",
      "-------\n",
      "phi:\tunigram_phi\n",
      "mse:\t3.88304699485\n",
      "-------\n",
      "phi:\tbigram_phi\n",
      "mse:\t5.04305786392\n",
      "-------\n",
      "phi:\tunigram_bigram_phi\n",
      "mse:\t6.69353076001\n",
      "=============================\n",
      "Fitting:\tfit_gbm_regression\n",
      "-------\n",
      "phi:\tunigram_phi\n",
      "mse:\t6.48175391157\n",
      "-------\n",
      "phi:\tbigram_phi\n",
      "mse:\t5.6615960342\n",
      "-------\n",
      "phi:\tunigram_bigram_phi\n",
      "mse:\t2.83297702418\n"
     ]
    }
   ],
   "source": [
    "for learner in learners:\n",
    "    print \"=============================\"\n",
    "    print \"Fitting:\\t\", learner.__name__\n",
    "    for phi in phis:\n",
    "        print \"-------\"\n",
    "        print \"phi:\\t\", phi.__name__\n",
    "        print \"mse:\\t\", experiment(train, learner, phi)        "
   ]
  },
  {
   "cell_type": "code",
   "execution_count": 283,
   "metadata": {
    "collapsed": false
   },
   "outputs": [],
   "source": [
    "def run_model(data, model, phi, n_samples = 100):\n",
    "    res = [experiment(data, model, phi) for _ in range(n_samples)]\n",
    "    return res"
   ]
  },
  {
   "cell_type": "code",
   "execution_count": 284,
   "metadata": {
    "collapsed": true
   },
   "outputs": [],
   "source": [
    "glm_res = run_model(train, fit_linear_regression, trigram_phi)\n",
    "gbm_res = run_model(train, fit_gbm_regression, trigram_phi)\n",
    "lasso_res = run_model(train, fit_lasso, trigram_phi)"
   ]
  },
  {
   "cell_type": "code",
   "execution_count": 285,
   "metadata": {
    "collapsed": false
   },
   "outputs": [
    {
     "name": "stdout",
     "output_type": "stream",
     "text": [
      "glm: 5.09104430619 1.65291139452\n",
      "gbm: 5.4193393923 2.1477179012\n",
      "lasso 5.5710284521 1.65857267327\n"
     ]
    }
   ],
   "source": [
    "print \"glm:\", np.mean(glm_res), np.var(glm_res)\n",
    "print \"gbm:\", np.mean(gbm_res), np.var(gbm_res)\n",
    "print \"lasso\", np.mean(lasso_res), np.var(lasso_res)"
   ]
  },
  {
   "cell_type": "code",
   "execution_count": 288,
   "metadata": {
    "collapsed": false
   },
   "outputs": [
    {
     "name": "stdout",
     "output_type": "stream",
     "text": [
      "0.0933661297989\n",
      "0.0212407456292\n",
      "0.5025560931\n"
     ]
    }
   ],
   "source": [
    "print scipy.stats.wilcoxon(glm_res, gbm_res)[1]\n",
    "print scipy.stats.wilcoxon(glm_res, lasso_res)[1]\n",
    "print scipy.stats.wilcoxon(gbm_res, lasso_res)[1]"
   ]
  },
  {
   "cell_type": "code",
   "execution_count": null,
   "metadata": {
    "collapsed": true
   },
   "outputs": [],
   "source": []
  }
 ],
 "metadata": {
  "kernelspec": {
   "display_name": "Python 2",
   "language": "python",
   "name": "python2"
  },
  "language_info": {
   "codemirror_mode": {
    "name": "ipython",
    "version": 2
   },
   "file_extension": ".py",
   "mimetype": "text/x-python",
   "name": "python",
   "nbconvert_exporter": "python",
   "pygments_lexer": "ipython2",
   "version": "2.7.11"
  }
 },
 "nbformat": 4,
 "nbformat_minor": 0
}
