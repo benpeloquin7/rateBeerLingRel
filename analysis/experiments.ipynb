{
 "cells": [
  {
   "cell_type": "markdown",
   "metadata": {},
   "source": [
    "__Experiments__"
   ]
  },
  {
   "cell_type": "code",
   "execution_count": 190,
   "metadata": {
    "collapsed": true
   },
   "outputs": [],
   "source": [
    "import pandas as pd\n",
    "import numpy as np\n",
    "import nltk\n",
    "from sklearn.feature_extraction import DictVectorizer\n",
    "from collections import Counter\n",
    "from sklearn.cross_validation import train_test_split\n",
    "from sklearn.linear_model import LinearRegression\n",
    "from sklearn.metrics import mean_squared_error"
   ]
  },
  {
   "cell_type": "code",
   "execution_count": 108,
   "metadata": {
    "collapsed": false
   },
   "outputs": [],
   "source": [
    "data_path = '../data/clean_data_full.csv'\n",
    "df = pd.read_csv(data_path)"
   ]
  },
  {
   "cell_type": "code",
   "execution_count": 109,
   "metadata": {
    "collapsed": false
   },
   "outputs": [
    {
     "name": "stdout",
     "output_type": "stream",
     "text": [
      "<class 'pandas.core.frame.DataFrame'>\n",
      "Int64Index: 51832 entries, 0 to 51831\n",
      "Data columns (total 31 columns):\n",
      "Unnamed: 0                  51832 non-null int64\n",
      "user_num_places_rated       51832 non-null int64\n",
      "user_num_following          51832 non-null int64\n",
      "user_url                    51832 non-null object\n",
      "beer_num_ratings            51832 non-null int64\n",
      "user_num_friends            51832 non-null int64\n",
      "user_num_breweries_rated    51832 non-null int64\n",
      "review_palate_score         51832 non-null int64\n",
      "review_taste_score          51832 non-null int64\n",
      "user_num_ratings            51832 non-null int64\n",
      "review_ratings_blob         51832 non-null object\n",
      "review_aroma_score          51832 non-null int64\n",
      "user_num_countries_rated    51832 non-null int64\n",
      "user_id                     51832 non-null int64\n",
      "review_avg_score            51832 non-null float64\n",
      "beer_global_style_score     47253 non-null float64\n",
      "beer_weighted_avg_score     51760 non-null float64\n",
      "beer_brewer_name            51832 non-null object\n",
      "review_overall_score        51832 non-null int64\n",
      "user_location               44469 non-null object\n",
      "review_appearance_score     51832 non-null int64\n",
      "beer_num_calories           50827 non-null float64\n",
      "beer_style                  51832 non-null object\n",
      "beer_url                    51832 non-null object\n",
      "review_blob                 51832 non-null object\n",
      "beer_global_score           46963 non-null float64\n",
      "user_name                   51822 non-null object\n",
      "beer_location               51832 non-null object\n",
      "beer_ABV                    50971 non-null object\n",
      "beer_name                   51832 non-null object\n",
      "beer_ABV_num                50971 non-null float64\n",
      "dtypes: float64(6), int64(14), object(11)\n",
      "memory usage: 12.7+ MB\n"
     ]
    }
   ],
   "source": [
    "df.info()"
   ]
  },
  {
   "cell_type": "code",
   "execution_count": 140,
   "metadata": {
    "collapsed": false
   },
   "outputs": [
    {
     "data": {
      "text/plain": [
       "51832"
      ]
     },
     "execution_count": 140,
     "metadata": {},
     "output_type": "execute_result"
    }
   ],
   "source": [
    "## Num rows\n",
    "len(df)"
   ]
  },
  {
   "cell_type": "code",
   "execution_count": 151,
   "metadata": {
    "collapsed": false
   },
   "outputs": [
    {
     "data": {
      "text/plain": [
       "100"
      ]
     },
     "execution_count": 151,
     "metadata": {},
     "output_type": "execute_result"
    }
   ],
   "source": [
    "mini_train_d = df[0:100]"
   ]
  },
  {
   "cell_type": "code",
   "execution_count": 156,
   "metadata": {
    "collapsed": false
   },
   "outputs": [
    {
     "name": "stdout",
     "output_type": "stream",
     "text": [
      "78\n",
      "22\n"
     ]
    }
   ],
   "source": [
    "## Basic test (0.2) train (0.8) split\n",
    "def train_test_split(df, proportion):\n",
    "    msk = np.random.rand(len(df)) < proportion\n",
    "    train = df[msk]\n",
    "    test = df[~msk]\n",
    "    return train, test\n",
    "\n",
    "train, test = train_test_split(mini_train_d, 0.8)\n",
    "print len(train)\n",
    "print len(test)"
   ]
  },
  {
   "cell_type": "markdown",
   "metadata": {},
   "source": [
    "# Feature Engineering"
   ]
  },
  {
   "cell_type": "code",
   "execution_count": 191,
   "metadata": {
    "collapsed": false
   },
   "outputs": [],
   "source": [
    "def unigram_phi(review):\n",
    "    return Counter(review.split())\n",
    "def bigram_phi(review):\n",
    "    return Counter(nltk.bigrams(review.split()))"
   ]
  },
  {
   "cell_type": "code",
   "execution_count": 192,
   "metadata": {
    "collapsed": false
   },
   "outputs": [],
   "source": [
    "def build_data_set(data, phi, vectorizer = None):\n",
    "    REVIEW_BLOB = 24\n",
    "    TASTE_SCORE = 8\n",
    "    labels = []\n",
    "    feat_dicts = []\n",
    "    raw_examples = []\n",
    "    data_values = data.values\n",
    "    for row in data.values:\n",
    "        review, score = row[REVIEW_BLOB], row[TASTE_SCORE]\n",
    "        if not isinstance(review, basestring):\n",
    "            print 'weird review:\\t', review\n",
    "        feat_dicts.append(phi(review))\n",
    "        labels.append(score)\n",
    "        raw_examples.append(review)\n",
    "        \n",
    "    # In training, we want a new vectorizer:    \n",
    "    if vectorizer == None:\n",
    "        vectorizer = DictVectorizer(sparse=True)\n",
    "        feat_matrix = vectorizer.fit_transform(feat_dicts)\n",
    "    # In assessment, we featurize using the existing vectorizer:\n",
    "    else:\n",
    "        feat_matrix = vectorizer.transform(feat_dicts)\n",
    "\n",
    "    return {'X': feat_matrix, \n",
    "            'y': labels, \n",
    "            'vectorizer': vectorizer, \n",
    "            'raw_examples': raw_examples}"
   ]
  },
  {
   "cell_type": "code",
   "execution_count": 193,
   "metadata": {
    "collapsed": false
   },
   "outputs": [
    {
     "data": {
      "text/plain": [
       "(22, 564)"
      ]
     },
     "execution_count": 193,
     "metadata": {},
     "output_type": "execute_result"
    }
   ],
   "source": [
    "d_train = build_data_set(train, bigram_phi)\n",
    "d_test = build_data_set(test, bigram_phi)\n",
    "d_test['X'].shape"
   ]
  },
  {
   "cell_type": "code",
   "execution_count": 194,
   "metadata": {
    "collapsed": true
   },
   "outputs": [],
   "source": [
    "def fit_linear_regression(X, y):    \n",
    "    \"\"\"\n",
    "    \"\"\"\n",
    "    mod = LinearRegression(fit_intercept=True)\n",
    "    mod.fit(X, y)\n",
    "    return mod"
   ]
  },
  {
   "cell_type": "code",
   "execution_count": 195,
   "metadata": {
    "collapsed": false
   },
   "outputs": [],
   "source": [
    "def experiment(data, model, phi, train_size = 0.7):\n",
    "    ## Build data set\n",
    "    train = build_data_set(data, phi)\n",
    "    X_train = train['X']\n",
    "    y_train = train['y']\n",
    "\n",
    "    ## Test-train split\n",
    "    X_train, X_assess, y_train, y_assess = train_test_split(\n",
    "            X_train, y_train, train_size = train_size)\n",
    "    \n",
    "    ## Model data\n",
    "    mod = model(X_train, y_train)\n",
    "    predictions = mod.predict(X_assess)\n",
    "    \n",
    "    ## Return MSE\n",
    "    return mean_squared_error(y_assess, predictions)\n",
    "    "
   ]
  },
  {
   "cell_type": "code",
   "execution_count": 198,
   "metadata": {
    "collapsed": false
   },
   "outputs": [
    {
     "data": {
      "text/plain": [
       "5.908701293105957"
      ]
     },
     "execution_count": 198,
     "metadata": {},
     "output_type": "execute_result"
    }
   ],
   "source": [
    "experiment(train, fit_linear_regression, unigram_phi)"
   ]
  },
  {
   "cell_type": "code",
   "execution_count": null,
   "metadata": {
    "collapsed": true
   },
   "outputs": [],
   "source": []
  }
 ],
 "metadata": {
  "kernelspec": {
   "display_name": "Python 2",
   "language": "python",
   "name": "python2"
  },
  "language_info": {
   "codemirror_mode": {
    "name": "ipython",
    "version": 2
   },
   "file_extension": ".py",
   "mimetype": "text/x-python",
   "name": "python",
   "nbconvert_exporter": "python",
   "pygments_lexer": "ipython2",
   "version": "2.7.11"
  }
 },
 "nbformat": 4,
 "nbformat_minor": 0
}
