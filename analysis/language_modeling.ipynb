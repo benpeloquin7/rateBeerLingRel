{
 "cells": [
  {
   "cell_type": "markdown",
   "metadata": {},
   "source": [
    "# Language modeling"
   ]
  },
  {
   "cell_type": "code",
   "execution_count": 1,
   "metadata": {
    "collapsed": false
   },
   "outputs": [],
   "source": [
    "from __future__ import print_function\n",
    "\n",
    "from pprint import pprint\n",
    "from time import time\n",
    "import logging\n",
    "\n",
    "from sklearn.datasets import fetch_20newsgroups\n",
    "from sklearn.feature_extraction.text import CountVectorizer\n",
    "from sklearn.feature_extraction.text import TfidfTransformer\n",
    "from sklearn.linear_model import SGDClassifier\n",
    "from sklearn.grid_search import GridSearchCV\n",
    "from sklearn.pipeline import Pipeline\n",
    "\n",
    "from collections import defaultdict\n",
    "import pandas as pd\n",
    "import numpy as np"
   ]
  },
  {
   "cell_type": "code",
   "execution_count": 2,
   "metadata": {
    "collapsed": false
   },
   "outputs": [],
   "source": [
    "# categories = [\n",
    "#     'alt.atheism',\n",
    "#     'talk.religion.misc',\n",
    "# ]\n",
    "\n",
    "# print(\"Loading 20 newsgroups dataset for categories:\")\n",
    "# print(categories)\n",
    "\n",
    "# data = fetch_20newsgroups(subset='train', categories=categories)\n",
    "# print(\"%d documents\" % len(data.filenames))\n",
    "# print(\"%d categories\" % len(data.target_names))\n",
    "# print()"
   ]
  },
  {
   "cell_type": "code",
   "execution_count": 3,
   "metadata": {
    "collapsed": false
   },
   "outputs": [],
   "source": [
    "data_path = '../data/clean_data_full.csv'\n",
    "df = pd.read_csv(data_path)"
   ]
  },
  {
   "cell_type": "code",
   "execution_count": 4,
   "metadata": {
    "collapsed": false
   },
   "outputs": [
    {
     "name": "stdout",
     "output_type": "stream",
     "text": [
      "<class 'pandas.core.frame.DataFrame'>\n",
      "Int64Index: 52778 entries, 0 to 52777\n",
      "Data columns (total 31 columns):\n",
      "Unnamed: 0                  52778 non-null int64\n",
      "user_num_places_rated       52778 non-null int64\n",
      "user_num_following          52778 non-null int64\n",
      "user_url                    52778 non-null object\n",
      "beer_num_ratings            52778 non-null int64\n",
      "user_num_friends            52778 non-null int64\n",
      "user_num_breweries_rated    52778 non-null int64\n",
      "review_palate_score         52778 non-null int64\n",
      "review_taste_score          52778 non-null int64\n",
      "user_num_ratings            52778 non-null int64\n",
      "review_ratings_blob         52778 non-null object\n",
      "review_aroma_score          52778 non-null int64\n",
      "user_num_countries_rated    52778 non-null int64\n",
      "user_id                     52778 non-null int64\n",
      "review_avg_score            52778 non-null float64\n",
      "beer_global_style_score     48129 non-null float64\n",
      "beer_weighted_avg_score     52705 non-null float64\n",
      "beer_brewer_name            52778 non-null object\n",
      "review_overall_score        52778 non-null int64\n",
      "user_location               45356 non-null object\n",
      "review_appearance_score     52778 non-null int64\n",
      "beer_num_calories           51753 non-null float64\n",
      "beer_style                  52778 non-null object\n",
      "beer_url                    52778 non-null object\n",
      "review_blob                 52778 non-null object\n",
      "beer_global_score           47825 non-null float64\n",
      "user_name                   52768 non-null object\n",
      "beer_location               52778 non-null object\n",
      "beer_ABV                    51897 non-null object\n",
      "beer_name                   52778 non-null object\n",
      "beer_ABV_num                51897 non-null float64\n",
      "dtypes: float64(6), int64(14), object(11)\n",
      "memory usage: 12.9+ MB\n"
     ]
    }
   ],
   "source": [
    "df.info()"
   ]
  },
  {
   "cell_type": "code",
   "execution_count": 5,
   "metadata": {
    "collapsed": false
   },
   "outputs": [],
   "source": [
    "reviews = df['review_blob'].values"
   ]
  },
  {
   "cell_type": "code",
   "execution_count": 6,
   "metadata": {
    "collapsed": false
   },
   "outputs": [],
   "source": [
    "num_reviews = df['user_num_ratings'].values"
   ]
  },
  {
   "cell_type": "code",
   "execution_count": 7,
   "metadata": {
    "collapsed": false
   },
   "outputs": [],
   "source": [
    "reviews_shortened = reviews"
   ]
  },
  {
   "cell_type": "code",
   "execution_count": 8,
   "metadata": {
    "collapsed": false
   },
   "outputs": [],
   "source": [
    "import LanguageModel"
   ]
  },
  {
   "cell_type": "code",
   "execution_count": 9,
   "metadata": {
    "collapsed": false
   },
   "outputs": [],
   "source": [
    "unigram_lm = LanguageModel.UnigramLM_Laplace()\n",
    "unigram_lm.train(reviews_shortened)"
   ]
  },
  {
   "cell_type": "code",
   "execution_count": 10,
   "metadata": {
    "collapsed": false
   },
   "outputs": [],
   "source": [
    "bigram_lm = LanguageModel.BigramLM_Laplace()\n",
    "bigram_lm.train(reviews_shortened)"
   ]
  },
  {
   "cell_type": "code",
   "execution_count": 11,
   "metadata": {
    "collapsed": false
   },
   "outputs": [],
   "source": [
    "trigram_lm = LanguageModel.TrigramLM_Laplace()\n",
    "trigram_lm.train(reviews_shortened)"
   ]
  },
  {
   "cell_type": "code",
   "execution_count": 14,
   "metadata": {
    "collapsed": false
   },
   "outputs": [
    {
     "name": "stdout",
     "output_type": "stream",
     "text": [
      "unigram 273.283415228\n",
      "bigram 0.0192984832775\n",
      "trigram 0.164964983826\n",
      "unigram 177.760556865\n",
      "bigram 0.0174547679163\n",
      "trigram 0.181067022107\n",
      "unigram 397.303557963\n",
      "bigram 0.164549439542\n",
      "trigram 0.668740304976\n",
      "unigram 541.483165197\n",
      "bigram 0.0446381245045\n",
      "trigram 0.327675521415\n",
      "unigram 146.102245186\n",
      "bigram 0.0296337751297\n",
      "trigram 0.274810154406\n"
     ]
    }
   ],
   "source": [
    "for ide in [100, 1000, 23000, 40000, 3]:\n",
    "    print('unigram', unigram_lm.score(reviews_shortened[ide]))\n",
    "    print('bigram', bigram_lm.score(reviews_shortened[ide]))\n",
    "    print('trigram', trigram_lm.score(reviews_shortened[ide]))"
   ]
  },
  {
   "cell_type": "code",
   "execution_count": 12,
   "metadata": {
    "collapsed": false
   },
   "outputs": [
    {
     "data": {
      "text/plain": [
       "'hello'"
      ]
     },
     "execution_count": 12,
     "metadata": {},
     "output_type": "execute_result"
    }
   ],
   "source": [
    "sent = 'hello there friend'\n"
   ]
  },
  {
   "cell_type": "markdown",
   "metadata": {},
   "source": [
    "## Fit unigram, bigrams, trigrams"
   ]
  },
  {
   "cell_type": "code",
   "execution_count": 14,
   "metadata": {
    "collapsed": false
   },
   "outputs": [],
   "source": [
    "unigram_vocab = CountVectorizer(ngram_range=(1,3))\n",
    "bigram_vocab = CountVectorizer(ngram_range=(2,2))\n",
    "trigram_vocab = CountVectorizer(ngram_range=(3,3))"
   ]
  },
  {
   "cell_type": "code",
   "execution_count": 15,
   "metadata": {
    "collapsed": false
   },
   "outputs": [
    {
     "name": "stdout",
     "output_type": "stream",
     "text": [
      "unigrams 0.00477004051208\n",
      "bigrams 0.00294303894043\n",
      "trigram 0.00247001647949\n"
     ]
    }
   ],
   "source": [
    "t0 = time()\n",
    "unigram_vocab.fit_transform(reviews_shortened)\n",
    "print(\"unigrams\", time() - t0)\n",
    "\n",
    "t0 = time()\n",
    "bigram_vocab.fit_transform(reviews_shortened)\n",
    "print(\"bigrams\", time() - t0)\n",
    "\n",
    "t0 = time()\n",
    "trigram_vocab.fit_transform(reviews_shortened)\n",
    "print(\"trigram\", time() - t0)"
   ]
  },
  {
   "cell_type": "code",
   "execution_count": 16,
   "metadata": {
    "collapsed": false
   },
   "outputs": [],
   "source": [
    "# vectorizer.get_feature_names()[-100:]"
   ]
  },
  {
   "cell_type": "code",
   "execution_count": 17,
   "metadata": {
    "collapsed": false
   },
   "outputs": [
    {
     "name": "stdout",
     "output_type": "stream",
     "text": [
      "unigram counts 0.000868082046509\n",
      "bigram counts 0.000509977340698\n",
      "trigram counts 0.000485897064209\n"
     ]
    }
   ],
   "source": [
    "t0 = time()\n",
    "unigram_counts = unigram_vocab.transform(reviews_shortened)\n",
    "print(\"unigram counts\", time() - t0)\n",
    "\n",
    "\n",
    "t0 = time()\n",
    "bigram_counts = bigram_vocab.transform(reviews_shortened)\n",
    "print(\"bigram counts\", time() - t0)\n",
    "\n",
    "t0 = time()\n",
    "trigram_counts = trigram_vocab.transform(reviews_shortened)\n",
    "print(\"trigram counts\", time() - t0)"
   ]
  },
  {
   "cell_type": "code",
   "execution_count": 18,
   "metadata": {
    "collapsed": false
   },
   "outputs": [
    {
     "name": "stdout",
     "output_type": "stream",
     "text": [
      "0.00130891799927\n"
     ]
    }
   ],
   "source": [
    "unigram_dict = defaultdict(int)\n",
    "t0 = time()\n",
    "for token, count in zip(unigram_vocab.get_feature_names(), np.asarray(unigram_counts.sum(axis=0)).ravel()):\n",
    "    unigram_dict[token] = count\n",
    "print(time() - t0)"
   ]
  },
  {
   "cell_type": "code",
   "execution_count": 19,
   "metadata": {
    "collapsed": false
   },
   "outputs": [
    {
     "data": {
      "text/plain": [
       "[(u'acid', 1),\n",
       " (u'acid mmm', 1),\n",
       " (u'acid mmm citrus', 1),\n",
       " (u'again', 1),\n",
       " (u'again long', 1),\n",
       " (u'again long live', 1),\n",
       " (u'ale', 2),\n",
       " (u'ale good', 1),\n",
       " (u'ale good beer', 1),\n",
       " (u'ale that', 1),\n",
       " (u'ale that have', 1),\n",
       " (u'almost', 2),\n",
       " (u'almost oily', 1),\n",
       " (u'almost oily you', 1),\n",
       " (u'almost taste', 1),\n",
       " (u'almost taste the', 1),\n",
       " (u'alpha', 1),\n",
       " (u'alpha acid', 1),\n",
       " (u'alpha acid mmm', 1),\n",
       " (u'amount', 1),\n",
       " (u'amount of', 1),\n",
       " (u'amount of time', 1),\n",
       " (u'any', 1),\n",
       " (u'any amount', 1),\n",
       " (u'any amount of', 1),\n",
       " (u'as', 2),\n",
       " (u'as possible', 1),\n",
       " (u'as possible do', 1),\n",
       " (u'as soon', 1),\n",
       " (u'as soon as', 1),\n",
       " (u'beer', 5),\n",
       " (u'beer again', 1),\n",
       " (u'beer again long', 1),\n",
       " (u'beer as', 1),\n",
       " (u'beer as soon', 1),\n",
       " (u'beer equals', 1),\n",
       " (u'beer equals better', 1),\n",
       " (u'beer or', 1),\n",
       " (u'beer or dales', 1),\n",
       " (u'beer so', 1),\n",
       " (u'beer so drink', 1),\n",
       " (u'best', 1),\n",
       " (u'best example', 1),\n",
       " (u'best example of', 1),\n",
       " (u'better', 1),\n",
       " (u'better times', 1),\n",
       " (u'camping', 1),\n",
       " (u'camping trip', 1),\n",
       " (u'camping trip complete', 1),\n",
       " (u'can', 2),\n",
       " (u'can almost', 1),\n",
       " (u'can almost taste', 1),\n",
       " (u'can couldnt', 1),\n",
       " (u'can couldnt see', 1),\n",
       " (u'citrus', 1),\n",
       " (u'citrus grapefruit', 1),\n",
       " (u'citrus grapefruit hints', 1),\n",
       " (u'comes', 1),\n",
       " (u'comes in', 1),\n",
       " (u'comes in can', 1),\n",
       " (u'complete', 1),\n",
       " (u'complete without', 1),\n",
       " (u'complete without this', 1),\n",
       " (u'couldnt', 1),\n",
       " (u'couldnt see', 1),\n",
       " (u'couldnt see fishing', 1),\n",
       " (u'dales', 1),\n",
       " (u'dales pale', 1),\n",
       " (u'dales pale ale', 1),\n",
       " (u'do', 1),\n",
       " (u'do not', 1),\n",
       " (u'do not store', 1),\n",
       " (u'drink', 2),\n",
       " (u'drink it', 1),\n",
       " (u'drink it its', 1),\n",
       " (u'drink this', 1),\n",
       " (u'drink this beer', 1),\n",
       " (u'equals', 1),\n",
       " (u'equals better', 1),\n",
       " (u'equals better times', 1),\n",
       " (u'example', 1),\n",
       " (u'example of', 1),\n",
       " (u'example of harvest', 1),\n",
       " (u'finger', 1),\n",
       " (u'finger head', 1),\n",
       " (u'finger head love', 1),\n",
       " (u'fishing', 1),\n",
       " (u'fishing or', 1),\n",
       " (u'fishing or camping', 1),\n",
       " (u'for', 1),\n",
       " (u'for any', 1),\n",
       " (u'for any amount', 1),\n",
       " (u'founders', 1),\n",
       " (u'fresh', 2),\n",
       " (u'fresh beer', 1),\n",
       " (u'fresh beer so', 1),\n",
       " (u'fresh its', 1),\n",
       " (u'fresh its almost', 1),\n",
       " (u'freshy', 1),\n",
       " (u'freshy released', 1),\n",
       " (u'freshy released alpha', 1),\n",
       " (u'good', 1),\n",
       " (u'good beer', 1),\n",
       " (u'good beer equals', 1),\n",
       " (u'grapefruit', 1),\n",
       " (u'grapefruit hints', 1),\n",
       " (u'grapefruit hints of', 1),\n",
       " (u'great', 1),\n",
       " (u'great beer', 1),\n",
       " (u'great beer again', 1),\n",
       " (u'harvest', 1),\n",
       " (u'harvest ale', 1),\n",
       " (u'harvest ale that', 1),\n",
       " (u'have', 1),\n",
       " (u'have tried', 1),\n",
       " (u'have tried drink', 1),\n",
       " (u'head', 1),\n",
       " (u'head love', 1),\n",
       " (u'head love that', 1),\n",
       " (u'hints', 1),\n",
       " (u'hints of', 1),\n",
       " (u'hints of lime', 1),\n",
       " (u'in', 1),\n",
       " (u'in can', 1),\n",
       " (u'in can couldnt', 1),\n",
       " (u'is', 1),\n",
       " (u'is fresh', 1),\n",
       " (u'is fresh beer', 1),\n",
       " (u'it', 3),\n",
       " (u'it comes', 1),\n",
       " (u'it comes in', 1),\n",
       " (u'it for', 1),\n",
       " (u'it for any', 1),\n",
       " (u'it its', 1),\n",
       " (u'it its so', 1),\n",
       " (u'its', 2),\n",
       " (u'its almost', 1),\n",
       " (u'its almost oily', 1),\n",
       " (u'its so', 1),\n",
       " (u'its so fresh', 1),\n",
       " (u'lime', 1),\n",
       " (u'lime great', 1),\n",
       " (u'lime great beer', 1),\n",
       " (u'live', 1),\n",
       " (u'live founders', 1),\n",
       " (u'long', 1),\n",
       " (u'long live', 1),\n",
       " (u'long live founders', 1),\n",
       " (u'love', 1),\n",
       " (u'love that', 1),\n",
       " (u'love that it', 1),\n",
       " (u'mmm', 1),\n",
       " (u'mmm citrus', 1),\n",
       " (u'mmm citrus grapefruit', 1),\n",
       " (u'not', 1),\n",
       " (u'not store', 1),\n",
       " (u'not store it', 1),\n",
       " (u'of', 3),\n",
       " (u'of harvest', 1),\n",
       " (u'of harvest ale', 1),\n",
       " (u'of lime', 1),\n",
       " (u'of lime great', 1),\n",
       " (u'of time', 1),\n",
       " (u'of time this', 1),\n",
       " (u'oily', 1),\n",
       " (u'oily you', 1),\n",
       " (u'oily you can', 1),\n",
       " (u'or', 2),\n",
       " (u'or camping', 1),\n",
       " (u'or camping trip', 1),\n",
       " (u'or dales', 1),\n",
       " (u'or dales pale', 1),\n",
       " (u'pale', 1),\n",
       " (u'pale ale', 1),\n",
       " (u'pale ale good', 1),\n",
       " (u'possible', 1),\n",
       " (u'possible do', 1),\n",
       " (u'possible do not', 1),\n",
       " (u'released', 1),\n",
       " (u'released alpha', 1),\n",
       " (u'released alpha acid', 1),\n",
       " (u'see', 1),\n",
       " (u'see fishing', 1),\n",
       " (u'see fishing or', 1),\n",
       " (u'so', 2),\n",
       " (u'so drink', 1),\n",
       " (u'so drink it', 1),\n",
       " (u'so fresh', 1),\n",
       " (u'so fresh its', 1),\n",
       " (u'soon', 1),\n",
       " (u'soon as', 1),\n",
       " (u'soon as possible', 1),\n",
       " (u'store', 1),\n",
       " (u'store it', 1),\n",
       " (u'store it for', 1),\n",
       " (u'taste', 1),\n",
       " (u'taste the', 1),\n",
       " (u'taste the freshy', 1),\n",
       " (u'that', 2),\n",
       " (u'that have', 1),\n",
       " (u'that have tried', 1),\n",
       " (u'that it', 1),\n",
       " (u'that it comes', 1),\n",
       " (u'the', 1),\n",
       " (u'the freshy', 1),\n",
       " (u'the freshy released', 1),\n",
       " (u'this', 3),\n",
       " (u'this beer', 2),\n",
       " (u'this beer as', 1),\n",
       " (u'this beer or', 1),\n",
       " (u'this is', 1),\n",
       " (u'this is fresh', 1),\n",
       " (u'time', 1),\n",
       " (u'time this', 1),\n",
       " (u'time this is', 1),\n",
       " (u'times', 1),\n",
       " (u'tried', 1),\n",
       " (u'tried drink', 1),\n",
       " (u'tried drink this', 1),\n",
       " (u'trip', 1),\n",
       " (u'trip complete', 1),\n",
       " (u'trip complete without', 1),\n",
       " (u'without', 1),\n",
       " (u'without this', 1),\n",
       " (u'without this beer', 1),\n",
       " (u'you', 1),\n",
       " (u'you can', 1),\n",
       " (u'you can almost', 1)]"
      ]
     },
     "execution_count": 19,
     "metadata": {},
     "output_type": "execute_result"
    }
   ],
   "source": [
    "zip(unigram_vocab.get_feature_names(), np.asarray(unigram_counts.sum(axis=0)).ravel())"
   ]
  },
  {
   "cell_type": "code",
   "execution_count": 49,
   "metadata": {
    "collapsed": false
   },
   "outputs": [
    {
     "name": "stdout",
     "output_type": "stream",
     "text": [
      "1.65763497353\n"
     ]
    }
   ],
   "source": [
    "bigram_dict = defaultdict(int)\n",
    "t0 = time()\n",
    "for token, count in zip(bigram_vocab.get_feature_names(), np.asarray(bigram_counts.sum(axis=0)).ravel()):\n",
    "    bigram_dict[token] = count\n",
    "print(time() - t0)\n"
   ]
  },
  {
   "cell_type": "code",
   "execution_count": 36,
   "metadata": {
    "collapsed": false
   },
   "outputs": [
    {
     "data": {
      "text/plain": [
       "135"
      ]
     },
     "execution_count": 36,
     "metadata": {},
     "output_type": "execute_result"
    }
   ],
   "source": [
    "len(unigram_dict.keys())"
   ]
  },
  {
   "cell_type": "code",
   "execution_count": 37,
   "metadata": {
    "collapsed": false
   },
   "outputs": [
    {
     "data": {
      "text/plain": [
       "11"
      ]
     },
     "execution_count": 37,
     "metadata": {},
     "output_type": "execute_result"
    }
   ],
   "source": [
    "unigram_dict['beer']"
   ]
  },
  {
   "cell_type": "code",
   "execution_count": 39,
   "metadata": {
    "collapsed": false
   },
   "outputs": [
    {
     "data": {
      "text/plain": [
       "array([ 'I tried this beer back in 2007. I was working at village bottle shop and my manager broke the neck off one of the 4 bottles we had on accident. The break was perfect. None of the beer spilled and it didnt get into the beer. I poured the remaining into a nalgene bottle and saved it until I got home for a more proper tasting. I like this beer because they are pushing the envelope and just the idea of what beer is and can be. No head at all completely no carbonation. Lots of molasses and caramelized sugars. Alcohol presence heavy, very very warming. It would make for a nice beer to enjoy during the heart of winter with good friends.  ',\n",
       "       'Best example of a harvest ale that I have tried. Drink this beer as soon as possible. Do not store it for any amount of time. This is a fresh beer So DRINK IT! Its so fresh its almost oily. You can almost taste the freshy released alpha acid. MMM Citrus, grapefruit, hints of lime. Great beer again. Long live founders ',\n",
       "       '2 finger head. I love that it comes in a can. I couldnt see a fishing or camping trip complete without this beer or dales pale ale. Good beer equals better times! '], dtype=object)"
      ]
     },
     "execution_count": 39,
     "metadata": {},
     "output_type": "execute_result"
    }
   ],
   "source": [
    "reviews_shortened"
   ]
  },
  {
   "cell_type": "code",
   "execution_count": 19,
   "metadata": {
    "collapsed": false
   },
   "outputs": [],
   "source": [
    "def get_value(vocab, counts, word):\n",
    "    if word not in vocab.vocabulary_:\n",
    "        return None\n",
    "    else:\n",
    "        return counts.toarray().sum(axis=0)[vocab.vocabulary_[word]]"
   ]
  },
  {
   "cell_type": "code",
   "execution_count": 20,
   "metadata": {
    "collapsed": false
   },
   "outputs": [],
   "source": [
    "def get_leading_bigram_str(words):\n",
    "    tokens = words.split()\n",
    "    return (' ').join(tokens[:2])"
   ]
  },
  {
   "cell_type": "code",
   "execution_count": 21,
   "metadata": {
    "collapsed": true
   },
   "outputs": [],
   "source": [
    "def get_leading_unigram_str(words):\n",
    "    tokens = words.split()\n",
    "    return (' ').join(tokens[:1])"
   ]
  },
  {
   "cell_type": "code",
   "execution_count": null,
   "metadata": {
    "collapsed": false
   },
   "outputs": [],
   "source": [
    "print(get_value(bigram_vocab, bigram_counts, get_leading_bigram_str(target)))"
   ]
  },
  {
   "cell_type": "code",
   "execution_count": 17,
   "metadata": {
    "collapsed": false
   },
   "outputs": [],
   "source": [
    "target = 'alpha acid mmm'"
   ]
  },
  {
   "cell_type": "code",
   "execution_count": 243,
   "metadata": {
    "collapsed": false
   },
   "outputs": [
    {
     "data": {
      "text/plain": [
       "1"
      ]
     },
     "execution_count": 243,
     "metadata": {},
     "output_type": "execute_result"
    }
   ],
   "source": [
    "get_value(trigram_vocab, trigram_counts, 'alpha acid mmm')"
   ]
  },
  {
   "cell_type": "code",
   "execution_count": 214,
   "metadata": {
    "collapsed": false
   },
   "outputs": [
    {
     "data": {
      "text/plain": [
       "1"
      ]
     },
     "execution_count": 214,
     "metadata": {},
     "output_type": "execute_result"
    }
   ],
   "source": [
    "get_value(bigram_cv, bigram_counts, new_target)"
   ]
  },
  {
   "cell_type": "code",
   "execution_count": 203,
   "metadata": {
    "collapsed": false
   },
   "outputs": [
    {
     "data": {
      "text/plain": [
       "2"
      ]
     },
     "execution_count": 203,
     "metadata": {},
     "output_type": "execute_result"
    }
   ],
   "source": [
    "get_value(unigram_cv, unigram_counts, 'drink')"
   ]
  },
  {
   "cell_type": "code",
   "execution_count": 219,
   "metadata": {
    "collapsed": false
   },
   "outputs": [
    {
     "data": {
      "text/plain": [
       "85"
      ]
     },
     "execution_count": 219,
     "metadata": {},
     "output_type": "execute_result"
    }
   ],
   "source": [
    "total_tokens = np.sum(unigram_counts.sum(axis=1))\n",
    "total_tokens"
   ]
  },
  {
   "cell_type": "code",
   "execution_count": 223,
   "metadata": {
    "collapsed": false
   },
   "outputs": [
    {
     "data": {
      "text/plain": [
       "65"
      ]
     },
     "execution_count": 223,
     "metadata": {},
     "output_type": "execute_result"
    }
   ],
   "source": [
    "vocab_size = len(unigram_cv.vocabulary_.keys())\n",
    "vocab_size"
   ]
  },
  {
   "cell_type": "code",
   "execution_count": 204,
   "metadata": {
    "collapsed": false
   },
   "outputs": [
    {
     "data": {
      "text/plain": [
       "[(u'acid mmm citrus', 1),\n",
       " (u'again long live', 1),\n",
       " (u'ale good beer', 1),\n",
       " (u'ale that have', 1),\n",
       " (u'almost oily you', 1),\n",
       " (u'almost taste the', 1),\n",
       " (u'alpha acid mmm', 1),\n",
       " (u'amount of time', 1),\n",
       " (u'any amount of', 1),\n",
       " (u'as possible do', 1),\n",
       " (u'as soon as', 1),\n",
       " (u'beer again long', 1),\n",
       " (u'beer as soon', 1),\n",
       " (u'beer equals better', 1),\n",
       " (u'beer or dales', 1),\n",
       " (u'beer so drink', 1),\n",
       " (u'best example of', 1),\n",
       " (u'camping trip complete', 1),\n",
       " (u'can almost taste', 1),\n",
       " (u'can couldnt see', 1),\n",
       " (u'citrus grapefruit hints', 1),\n",
       " (u'comes in can', 1),\n",
       " (u'complete without this', 1),\n",
       " (u'couldnt see fishing', 1),\n",
       " (u'dales pale ale', 1),\n",
       " (u'do not store', 1),\n",
       " (u'drink it its', 1),\n",
       " (u'drink this beer', 1),\n",
       " (u'equals better times', 1),\n",
       " (u'example of harvest', 1),\n",
       " (u'finger head love', 1),\n",
       " (u'fishing or camping', 1),\n",
       " (u'for any amount', 1),\n",
       " (u'fresh beer so', 1),\n",
       " (u'fresh its almost', 1),\n",
       " (u'freshy released alpha', 1),\n",
       " (u'good beer equals', 1),\n",
       " (u'grapefruit hints of', 1),\n",
       " (u'great beer again', 1),\n",
       " (u'harvest ale that', 1),\n",
       " (u'have tried drink', 1),\n",
       " (u'head love that', 1),\n",
       " (u'hints of lime', 1),\n",
       " (u'in can couldnt', 1),\n",
       " (u'is fresh beer', 1),\n",
       " (u'it comes in', 1),\n",
       " (u'it for any', 1),\n",
       " (u'it its so', 1),\n",
       " (u'its almost oily', 1),\n",
       " (u'its so fresh', 1),\n",
       " (u'lime great beer', 1),\n",
       " (u'long live founders', 1),\n",
       " (u'love that it', 1),\n",
       " (u'mmm citrus grapefruit', 1),\n",
       " (u'not store it', 1),\n",
       " (u'of harvest ale', 1),\n",
       " (u'of lime great', 1),\n",
       " (u'of time this', 1),\n",
       " (u'oily you can', 1),\n",
       " (u'or camping trip', 1),\n",
       " (u'or dales pale', 1),\n",
       " (u'pale ale good', 1),\n",
       " (u'possible do not', 1),\n",
       " (u'released alpha acid', 1),\n",
       " (u'see fishing or', 1),\n",
       " (u'so drink it', 1),\n",
       " (u'so fresh its', 1),\n",
       " (u'soon as possible', 1),\n",
       " (u'store it for', 1),\n",
       " (u'taste the freshy', 1),\n",
       " (u'that have tried', 1),\n",
       " (u'that it comes', 1),\n",
       " (u'the freshy released', 1),\n",
       " (u'this beer as', 1),\n",
       " (u'this beer or', 1),\n",
       " (u'this is fresh', 1),\n",
       " (u'time this is', 1),\n",
       " (u'tried drink this', 1),\n",
       " (u'trip complete without', 1),\n",
       " (u'without this beer', 1),\n",
       " (u'you can almost', 1)]"
      ]
     },
     "execution_count": 204,
     "metadata": {},
     "output_type": "execute_result"
    }
   ],
   "source": [
    "zip(trigram_cv.get_feature_names(),\n",
    "    np.asarray(trigram_counts.sum(axis=0)).ravel())"
   ]
  },
  {
   "cell_type": "code",
   "execution_count": 129,
   "metadata": {
    "collapsed": false
   },
   "outputs": [
    {
     "data": {
      "text/plain": [
       "array([ 'Best example of a harvest ale that I have tried. Drink this beer as soon as possible. Do not store it for any amount of time. This is a fresh beer So DRINK IT! Its so fresh its almost oily. You can almost taste the freshy released alpha acid. MMM Citrus, grapefruit, hints of lime. Great beer again. Long live founders ',\n",
       "       '2 finger head. I love that it comes in a can. I couldnt see a fishing or camping trip complete without this beer or dales pale ale. Good beer equals better times! '], dtype=object)"
      ]
     },
     "execution_count": 129,
     "metadata": {},
     "output_type": "execute_result"
    }
   ],
   "source": [
    "reviews_shortened"
   ]
  },
  {
   "cell_type": "code",
   "execution_count": 20,
   "metadata": {
    "collapsed": true
   },
   "outputs": [],
   "source": [
    "pipeline = Pipeline([\n",
    "    ('vect', CountVectorizer()),\n",
    "    ('tfidf', TfidfTransformer()),\n",
    "    ('clf', SGDClassifier()),\n",
    "])\n",
    "\n",
    "# uncommenting more parameters will give better exploring power but will\n",
    "# increase processing time in a combinatorial way\n",
    "parameters = {\n",
    "    'vect__max_df': (0.5, 0.75, 1.0),\n",
    "    #'vect__max_features': (None, 5000, 10000, 50000),\n",
    "    'vect__ngram_range': ((1, 1), (1, 2)),  # unigrams or bigrams\n",
    "    #'tfidf__use_idf': (True, False),\n",
    "    #'tfidf__norm': ('l1', 'l2'),\n",
    "    'clf__alpha': (0.00001, 0.000001),\n",
    "    'clf__penalty': ('l2', 'elasticnet'),\n",
    "    #'clf__n_iter': (10, 50, 80),\n",
    "}"
   ]
  },
  {
   "cell_type": "code",
   "execution_count": null,
   "metadata": {
    "collapsed": true
   },
   "outputs": [],
   "source": []
  },
  {
   "cell_type": "code",
   "execution_count": 21,
   "metadata": {
    "collapsed": false
   },
   "outputs": [
    {
     "name": "stdout",
     "output_type": "stream",
     "text": [
      "Performing grid search...\n",
      "pipeline: ['vect', 'tfidf', 'clf']\n",
      "parameters:\n",
      "{'clf__alpha': (1e-05, 1e-06),\n",
      " 'clf__penalty': ('l2', 'elasticnet'),\n",
      " 'vect__max_df': (0.5, 0.75, 1.0),\n",
      " 'vect__ngram_range': ((1, 1), (1, 2))}\n",
      "Fitting 3 folds for each of 24 candidates, totalling 72 fits\n"
     ]
    },
    {
     "name": "stderr",
     "output_type": "stream",
     "text": [
      "[Parallel(n_jobs=-1)]: Done   1 jobs       | elapsed:    0.7s\n",
      "[Parallel(n_jobs=-1)]: Done  50 jobs       | elapsed:   17.2s\n",
      "[Parallel(n_jobs=-1)]: Done  66 out of  72 | elapsed:   24.6s remaining:    2.2s\n",
      "[Parallel(n_jobs=-1)]: Done  72 out of  72 | elapsed:   26.3s finished\n"
     ]
    },
    {
     "name": "stdout",
     "output_type": "stream",
     "text": [
      "done in 27.834s\n",
      "\n",
      "Best score: 0.936\n",
      "Best parameters set:\n",
      "\tclf__alpha: 1e-05\n",
      "\tclf__penalty: 'l2'\n",
      "\tvect__max_df: 0.5\n",
      "\tvect__ngram_range: (1, 2)\n"
     ]
    }
   ],
   "source": [
    "grid_search = GridSearchCV(pipeline, parameters, n_jobs=-1, verbose=1)\n",
    "\n",
    "print(\"Performing grid search...\")\n",
    "print(\"pipeline:\", [name for name, _ in pipeline.steps])\n",
    "print(\"parameters:\")\n",
    "pprint(parameters)\n",
    "t0 = time()\n",
    "grid_search.fit(data.data, data.target)\n",
    "print(\"done in %0.3fs\" % (time() - t0))\n",
    "print()\n",
    "\n",
    "print(\"Best score: %0.3f\" % grid_search.best_score_)\n",
    "print(\"Best parameters set:\")\n",
    "best_parameters = grid_search.best_estimator_.get_params()\n",
    "for param_name in sorted(parameters.keys()):\n",
    "    print(\"\\t%s: %r\" % (param_name, best_parameters[param_name]))\n",
    "        "
   ]
  },
  {
   "cell_type": "code",
   "execution_count": null,
   "metadata": {
    "collapsed": true
   },
   "outputs": [],
   "source": []
  }
 ],
 "metadata": {
  "kernelspec": {
   "display_name": "Python 2",
   "language": "python",
   "name": "python2"
  },
  "language_info": {
   "codemirror_mode": {
    "name": "ipython",
    "version": 2
   },
   "file_extension": ".py",
   "mimetype": "text/x-python",
   "name": "python",
   "nbconvert_exporter": "python",
   "pygments_lexer": "ipython2",
   "version": "2.7.11"
  }
 },
 "nbformat": 4,
 "nbformat_minor": 0
}
