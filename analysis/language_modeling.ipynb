{
 "cells": [
  {
   "cell_type": "markdown",
   "metadata": {},
   "source": [
    "# Language modeling"
   ]
  },
  {
   "cell_type": "code",
   "execution_count": 1,
   "metadata": {
    "collapsed": false
   },
   "outputs": [],
   "source": [
    "from __future__ import print_function\n",
    "\n",
    "import random\n",
    "import logging\n",
    "import pandas as pd\n",
    "import numpy as np\n",
    "from pprint import pprint\n",
    "from time import time\n",
    "\n",
    "from collections import defaultdict\n",
    "\n",
    "from sklearn.datasets import fetch_20newsgroups\n",
    "from sklearn.feature_extraction.text import CountVectorizer\n",
    "from sklearn.feature_extraction.text import TfidfTransformer\n",
    "from sklearn.linear_model import SGDClassifier\n",
    "from sklearn.grid_search import GridSearchCV\n",
    "from sklearn.pipeline import Pipeline"
   ]
  },
  {
   "cell_type": "markdown",
   "metadata": {},
   "source": [
    "# Data"
   ]
  },
  {
   "cell_type": "code",
   "execution_count": 2,
   "metadata": {
    "collapsed": false
   },
   "outputs": [],
   "source": [
    "data_path = '../data/clean_data_full.csv'\n",
    "df = pd.read_csv(data_path)"
   ]
  },
  {
   "cell_type": "code",
   "execution_count": 3,
   "metadata": {
    "collapsed": false
   },
   "outputs": [],
   "source": [
    "#df.info()"
   ]
  },
  {
   "cell_type": "code",
   "execution_count": 4,
   "metadata": {
    "collapsed": false
   },
   "outputs": [],
   "source": [
    "reviews = df['review_blob'].values"
   ]
  },
  {
   "cell_type": "markdown",
   "metadata": {},
   "source": [
    "# LM Classifier"
   ]
  },
  {
   "cell_type": "code",
   "execution_count": 5,
   "metadata": {
    "collapsed": false
   },
   "outputs": [],
   "source": [
    "import LanguageModel"
   ]
  },
  {
   "cell_type": "markdown",
   "metadata": {},
   "source": [
    "## Q1 ( < 18)"
   ]
  },
  {
   "cell_type": "code",
   "execution_count": 7,
   "metadata": {
    "collapsed": false
   },
   "outputs": [
    {
     "name": "stdout",
     "output_type": "stream",
     "text": [
      "num reviews:\t 12822\n"
     ]
    }
   ],
   "source": [
    "quant1_df = df[df.user_num_ratings < 18]\n",
    "quant1_reviews = quant1_df['review_blob'].values\n",
    "print(\"num reviews:\\t\", len(quant1_reviews))\n",
    "## Initialize\n",
    "q1Un_lm = LanguageModel.UnigramLM_Laplace()\n",
    "q1Bi_lm = LanguageModel.BigramLM_Laplace()\n",
    "q1Tr_lm = LanguageModel.TrigramLM_Laplace()\n",
    "q1SB_lm = LanguageModel.Trigram_SB_LM()\n",
    "## Train\n",
    "# q1Un_lm.train(quant1_reviews)\n",
    "# q1Bi_lm.train(quant1_reviews)\n",
    "# q1Tr_lm.train(quant1_reviews)\n",
    "q1SB_lm.train(quant1_reviews)"
   ]
  },
  {
   "cell_type": "markdown",
   "metadata": {},
   "source": [
    "## Q2 ( < 72)"
   ]
  },
  {
   "cell_type": "code",
   "execution_count": 8,
   "metadata": {
    "collapsed": false
   },
   "outputs": [
    {
     "name": "stdout",
     "output_type": "stream",
     "text": [
      "num reviews:\t 13384\n"
     ]
    }
   ],
   "source": [
    "quant2_df = df[(df.user_num_ratings < 72) & (df.user_num_ratings >= 18)]\n",
    "quant2_reviews = quant2_df['review_blob'].values\n",
    "print(\"num reviews:\\t\", len(quant2_reviews))\n",
    "## Initialize\n",
    "q2Un_lm = LanguageModel.UnigramLM_Laplace()\n",
    "q2Bi_lm = LanguageModel.BigramLM_Laplace()\n",
    "q2Tr_lm = LanguageModel.TrigramLM_Laplace()\n",
    "q2SB_lm = LanguageModel.Trigram_SB_LM()\n",
    "## Train\n",
    "# q2Un_lm.train(quant2_reviews)\n",
    "# q2Bi_lm.train(quant2_reviews)\n",
    "# q2Tr_lm.train(quant2_reviews)\n",
    "q2SB_lm.train(quant2_reviews)"
   ]
  },
  {
   "cell_type": "markdown",
   "metadata": {},
   "source": [
    "## Q3 ( < 278)"
   ]
  },
  {
   "cell_type": "code",
   "execution_count": 11,
   "metadata": {
    "collapsed": false
   },
   "outputs": [
    {
     "name": "stdout",
     "output_type": "stream",
     "text": [
      "num reviews:\t 13330\n"
     ]
    }
   ],
   "source": [
    "quant3_df = df[(df.user_num_ratings < 278) & (df.user_num_ratings >= 72)]\n",
    "quant3_reviews = quant3_df['review_blob'].values\n",
    "print(\"num reviews:\\t\", len(quant3_reviews))\n",
    "## Initialize\n",
    "q3Un_lm = LanguageModel.UnigramLM_Laplace()\n",
    "q3Bi_lm = LanguageModel.BigramLM_Laplace()\n",
    "q3Tr_lm = LanguageModel.TrigramLM_Laplace()\n",
    "q3SB_lm = LanguageModel.Trigram_SB_LM()\n",
    "## Train\n",
    "# q3Un_lm.train(quant3_reviews)\n",
    "# q3Bi_lm.train(quant3_reviews)\n",
    "# q3Tr_lm.train(quant3_reviews)\n",
    "q3SB_lm.train(quant3_reviews)"
   ]
  },
  {
   "cell_type": "markdown",
   "metadata": {},
   "source": [
    "## Q4 ( >= 278)"
   ]
  },
  {
   "cell_type": "code",
   "execution_count": 12,
   "metadata": {
    "collapsed": false
   },
   "outputs": [
    {
     "name": "stdout",
     "output_type": "stream",
     "text": [
      "num reviews:\t 13242\n"
     ]
    }
   ],
   "source": [
    "quant4_df = df[df.user_num_ratings >= 278]\n",
    "quant4_reviews = quant4_df['review_blob'].values\n",
    "print(\"num reviews:\\t\", len(quant4_reviews))\n",
    "## Initialize\n",
    "q4Un_lm = LanguageModel.UnigramLM_Laplace()\n",
    "q4Bi_lm = LanguageModel.BigramLM_Laplace()\n",
    "q4Tr_lm = LanguageModel.TrigramLM_Laplace()\n",
    "q4SB_lm = LanguageModel.Trigram_SB_LM()\n",
    "## Train\n",
    "# q4Un_lm.train(quant4_reviews)\n",
    "# q4Bi_lm.train(quant4_reviews)\n",
    "# q4Tr_lm.train(quant4_reviews)\n",
    "q4SB_lm.train(quant4_reviews)"
   ]
  },
  {
   "cell_type": "markdown",
   "metadata": {},
   "source": [
    "## Within class testing"
   ]
  },
  {
   "cell_type": "markdown",
   "metadata": {},
   "source": [
    "### Class 1"
   ]
  },
  {
   "cell_type": "code",
   "execution_count": 11,
   "metadata": {
    "collapsed": false
   },
   "outputs": [
    {
     "name": "stdout",
     "output_type": "stream",
     "text": [
      "review:\t Burnt orange color, good carbonation when pouring, unfortunately doesnt last. Almost no head, past due date? Rather dull in the mouth, alcohol comes out. Expected pucker inducing tartness not present. A bit watery. I would like to taste a fresh one, it might influence my rating, maybe not by much, though. \n",
      "-------------------\n",
      "score:\t-360.338922668\n",
      "Unigram [896.8132061541502, -360.33892266817639]\n",
      "score:\t-407.557123312\n",
      "Bigram [2185.8434330931086, -407.55712331163244]\n",
      "score:\t-462.138571093\n",
      "Trigram [6121.703466699875, -462.13857109341387]\n",
      "score:\t-77.228189252\n",
      "Trigram_SB [4.546138633279932, -77.228189252001158]\n",
      "review:\t Incredible beer. Very crisp and front heavy on the taste. The notes are of fruit and spice.  \n",
      "-------------------\n",
      "score:\t-104.42966699\n",
      "Unigram [243.78782141840088, -104.42966699005711]\n",
      "score:\t-125.069396794\n",
      "Bigram [722.4150471237413, -125.06939679351534]\n",
      "score:\t-147.598775408\n",
      "Trigram [2364.582140223316, -147.59877540798789]\n",
      "score:\t-35.2765013701\n",
      "Trigram_SB [7.965249886108234, -35.276501370136508]\n",
      "review:\t Appearance is pale, clear copper. Nice smooth head. Great aroma with wood, smoke, and a little hop. Taste is very malty with some hop. Slightly tangy aftertaste. A decent beer.\n",
      "\n",
      "---Rated via iPhone \n",
      "-------------------\n",
      "score:\t-203.040262964\n",
      "Unigram [330.6797453829661, -203.04026296414122]\n",
      "score:\t-228.210862428\n",
      "Bigram [678.7890182675632, -228.2108624275547]\n",
      "score:\t-285.989897286\n",
      "Trigram [3537.373998236425, -285.98989728554108]\n",
      "score:\t-74.572446186\n",
      "Trigram_SB [9.580895815599286, -74.57244618602752]\n"
     ]
    }
   ],
   "source": [
    "## Q1\n",
    "for review in random.sample(quant1_reviews, 3):\n",
    "    print(\"review:\\t\", review)\n",
    "    print(\"-------------------\")\n",
    "    print(\"Unigram\", q1Un_lm.score(review))\n",
    "    print(\"Bigram\", q1Bi_lm.score(review))\n",
    "    print(\"Trigram\", q1Tr_lm.score(review))\n",
    "    print(\"Trigram_SB\", q1SB_lm.score(review))"
   ]
  },
  {
   "cell_type": "markdown",
   "metadata": {},
   "source": [
    "### Class 2"
   ]
  },
  {
   "cell_type": "code",
   "execution_count": 12,
   "metadata": {
    "collapsed": false
   },
   "outputs": [
    {
     "name": "stdout",
     "output_type": "stream",
     "text": [
      "review:\t Tap at Lincoln Ave; nice balance between the bitterness and malt; they use Galena and Williamette hops in this one; pours black with tones of red; tasty. (#28) \n",
      "-------------------\n",
      "score:\t-203.392217816\n",
      "Unigram [879.840458498596, -203.39221781625747]\n",
      "score:\t-212.279254854\n",
      "Bigram [1183.1967466997812, -212.27925485445624]\n",
      "score:\t-241.446208202\n",
      "Trigram [3128.1809238020646, -241.44620820248107]\n",
      "score:\t-46.8816931283\n",
      "Trigram_SB [5.335305695724755, -46.881693128319291]\n",
      "review:\t This beer pours a light hazy color with little head. I has a pleasent aroma good mix of hppy and citrus. Good IPA\n",
      "\n",
      " \n",
      "-------------------\n",
      "score:\t-139.717269455\n",
      "Unigram [267.38532376202176, -139.71726945507066]\n",
      "score:\t-154.074854758\n",
      "Bigram [474.8477328869545, -154.07485475750741]\n",
      "score:\t-188.680641592\n",
      "Trigram [1895.4767399694558, -188.68064159241067]\n",
      "score:\t-46.8352034203\n",
      "Trigram_SB [7.662307604128955, -46.835203420310663]\n",
      "review:\t Copper amber appearance, toast, citrus, vanilla, nice lasting head with good lacing. Excellent session beer \n",
      "-------------------\n",
      "score:\t-103.766541339\n",
      "Unigram [447.60636491329626, -103.76654133929176]\n",
      "score:\t-115.08111225\n",
      "Bigram [870.8564834777704, -115.081112249542]\n",
      "score:\t-128.811713631\n",
      "Trigram [1953.0736187565055, -128.81171363149497]\n",
      "score:\t-19.4333977648\n",
      "Trigram_SB [3.653040560114278, -19.43339776478453]\n"
     ]
    }
   ],
   "source": [
    "## Q2\n",
    "for review in random.sample(quant2_reviews, 3):\n",
    "    print(\"review:\\t\", review)\n",
    "    print(\"-------------------\")\n",
    "    print(\"Unigram\", q2Un_lm.score(review))\n",
    "    print(\"Bigram\", q2Bi_lm.score(review))\n",
    "    print(\"Trigram\", q2Tr_lm.score(review))\n",
    "    print(\"Trigram_SB\", q2SB_lm.score(review))"
   ]
  },
  {
   "cell_type": "markdown",
   "metadata": {},
   "source": [
    "### Class 3"
   ]
  },
  {
   "cell_type": "code",
   "execution_count": 14,
   "metadata": {
    "collapsed": false
   },
   "outputs": [
    {
     "name": "stdout",
     "output_type": "stream",
     "text": [
      "review:\t Pours amber minum head. Bitter hops but a nice grain to coincide the hops.  \n",
      "-------------------\n",
      "score:\t-95.1394093643\n",
      "Unigram [382.30284606934055, -95.139409364342626]\n",
      "score:\t-104.167783178\n",
      "Bigram [672.1533061193065, -104.16778317777012]\n",
      "score:\t-121.337297819\n",
      "Trigram [1965.6556125409159, -121.33729781944346]\n"
     ]
    },
    {
     "ename": "AttributeError",
     "evalue": "Trigram_SB_LM instance has no attribute 'ngram_dict'",
     "output_type": "error",
     "traceback": [
      "\u001b[0;31m---------------------------------------------------------------------------\u001b[0m",
      "\u001b[0;31mAttributeError\u001b[0m                            Traceback (most recent call last)",
      "\u001b[0;32m<ipython-input-14-83e172784fe9>\u001b[0m in \u001b[0;36m<module>\u001b[0;34m()\u001b[0m\n\u001b[1;32m      6\u001b[0m     \u001b[0;32mprint\u001b[0m\u001b[0;34m(\u001b[0m\u001b[0;34m\"Bigram\"\u001b[0m\u001b[0;34m,\u001b[0m \u001b[0mq3Bi_lm\u001b[0m\u001b[0;34m.\u001b[0m\u001b[0mscore\u001b[0m\u001b[0;34m(\u001b[0m\u001b[0mreview\u001b[0m\u001b[0;34m)\u001b[0m\u001b[0;34m)\u001b[0m\u001b[0;34m\u001b[0m\u001b[0m\n\u001b[1;32m      7\u001b[0m     \u001b[0;32mprint\u001b[0m\u001b[0;34m(\u001b[0m\u001b[0;34m\"Trigram\"\u001b[0m\u001b[0;34m,\u001b[0m \u001b[0mq3Tr_lm\u001b[0m\u001b[0;34m.\u001b[0m\u001b[0mscore\u001b[0m\u001b[0;34m(\u001b[0m\u001b[0mreview\u001b[0m\u001b[0;34m)\u001b[0m\u001b[0;34m)\u001b[0m\u001b[0;34m\u001b[0m\u001b[0m\n\u001b[0;32m----> 8\u001b[0;31m     \u001b[0;32mprint\u001b[0m\u001b[0;34m(\u001b[0m\u001b[0;34m\"Trigram_SB\"\u001b[0m\u001b[0;34m,\u001b[0m \u001b[0mq3SB_lm\u001b[0m\u001b[0;34m.\u001b[0m\u001b[0mscore\u001b[0m\u001b[0;34m(\u001b[0m\u001b[0mreview\u001b[0m\u001b[0;34m)\u001b[0m\u001b[0;34m)\u001b[0m\u001b[0;34m\u001b[0m\u001b[0m\n\u001b[0m",
      "\u001b[0;32m/Users/benpeloquin/Desktop/Spring2016/CS224U/rateBeerLingRel/analysis/LanguageModel.py\u001b[0m in \u001b[0;36mscore\u001b[0;34m(self, curr_example)\u001b[0m\n\u001b[1;32m    209\u001b[0m                         \u001b[0;32melif\u001b[0m \u001b[0mself\u001b[0m\u001b[0;34m.\u001b[0m\u001b[0mngrams_dict\u001b[0m\u001b[0;34m[\u001b[0m\u001b[0mcurr_bigram\u001b[0m\u001b[0;34m]\u001b[0m \u001b[0;34m!=\u001b[0m \u001b[0;36m0\u001b[0m\u001b[0;34m:\u001b[0m\u001b[0;34m\u001b[0m\u001b[0m\n\u001b[1;32m    210\u001b[0m                                 \u001b[0mscore\u001b[0m \u001b[0;34m+=\u001b[0m \u001b[0;36m0.4\u001b[0m \u001b[0;34m*\u001b[0m \u001b[0mcount\u001b[0m \u001b[0;34m*\u001b[0m \u001b[0mmath\u001b[0m\u001b[0;34m.\u001b[0m\u001b[0mlog\u001b[0m\u001b[0;34m(\u001b[0m\u001b[0mself\u001b[0m\u001b[0;34m.\u001b[0m\u001b[0mngrams_dict\u001b[0m\u001b[0;34m[\u001b[0m\u001b[0mcurr_bigram\u001b[0m\u001b[0;34m]\u001b[0m\u001b[0;34m)\u001b[0m\u001b[0;34m\u001b[0m\u001b[0m\n\u001b[0;32m--> 211\u001b[0;31m                                 \u001b[0mscore\u001b[0m \u001b[0;34m-=\u001b[0m \u001b[0mcount\u001b[0m \u001b[0;34m*\u001b[0m \u001b[0mmath\u001b[0m\u001b[0;34m.\u001b[0m\u001b[0mlog\u001b[0m\u001b[0;34m(\u001b[0m\u001b[0mself\u001b[0m\u001b[0;34m.\u001b[0m\u001b[0mngram_dict\u001b[0m\u001b[0;34m[\u001b[0m\u001b[0mcurr_unigram\u001b[0m\u001b[0;34m]\u001b[0m\u001b[0;34m)\u001b[0m\u001b[0;34m\u001b[0m\u001b[0m\n\u001b[0m\u001b[1;32m    212\u001b[0m                         \u001b[0;31m## back-off to smoothed unigrams\u001b[0m\u001b[0;34m\u001b[0m\u001b[0;34m\u001b[0m\u001b[0m\n\u001b[1;32m    213\u001b[0m                         \u001b[0;32melse\u001b[0m\u001b[0;34m:\u001b[0m\u001b[0;34m\u001b[0m\u001b[0m\n",
      "\u001b[0;31mAttributeError\u001b[0m: Trigram_SB_LM instance has no attribute 'ngram_dict'"
     ]
    }
   ],
   "source": [
    "## Q3\n",
    "for review in random.sample(quant3_reviews, 3):\n",
    "    print(\"review:\\t\", review)\n",
    "    print(\"-------------------\")\n",
    "    print(\"Unigram\", q3Un_lm.score(review))\n",
    "    print(\"Bigram\", q3Bi_lm.score(review))\n",
    "    print(\"Trigram\", q3Tr_lm.score(review))\n",
    "    print(\"Trigram_SB\", q3SB_lm.score(review))"
   ]
  },
  {
   "cell_type": "markdown",
   "metadata": {},
   "source": [
    "### Class 4"
   ]
  },
  {
   "cell_type": "code",
   "execution_count": 41,
   "metadata": {
    "collapsed": false
   },
   "outputs": [
    {
     "name": "stdout",
     "output_type": "stream",
     "text": [
      "review:\t 750 ml into a tulip. Nose is pine and citrus. Bitter and juicy. Taste is much better with the pine and citrus mingling with some bubble gum and tropical fruit in the finish, Really tasty DIPA. \n",
      "-------------------\n",
      "Unigram [327.0200125615176, -220.02081204170366]\n",
      "Bigram [415.2046624384755, -229.09331932439875]\n",
      "Trigram [2091.1170121872688, -290.52723899565251]\n",
      "review:\t Bottle: Poured alight reddish color ale with a medium size foamy head with OK retention and light lacing. Aroma of light cranberry notes with some tart notes. Taste is a mix of light lactic notes with some tart notes and light cranberry notes. Body is about average with good carbonation. Good refreshing example of the style though it might be lacking a little bit of character.  \n",
      "-------------------\n",
      "Unigram [286.61055543472975, -384.75245543041262]\n",
      "Bigram [433.73068920371827, -412.92481905974978]\n",
      "Trigram [1899.6350761438555, -513.3603615433741]\n",
      "review:\t I like the low alcohol on this IIPA. It had a nice hop combo with a light malt integration. Tastes of resin and pine mixed with citrus and caramel. Finishes a tad fruity and astringent. Palate is smooth for its kind. \n",
      "-------------------\n",
      "Unigram [245.823520367859, -236.69839690886289]\n",
      "Bigram [694.0219235158493, -281.32765265379788]\n",
      "Trigram [2560.4991057578445, -337.46217171126881]\n"
     ]
    }
   ],
   "source": [
    "## Q4\n",
    "for review in random.sample(quant4_reviews, 3):\n",
    "    print(\"review:\\t\", review)\n",
    "    print(\"-------------------\")\n",
    "    print(\"Unigram\", q4Un_lm.score(review))\n",
    "    print(\"Bigram\", q4Bi_lm.score(review))\n",
    "    print(\"Trigram\", q4Tr_lm.score(review))"
   ]
  },
  {
   "cell_type": "markdown",
   "metadata": {},
   "source": [
    "## Between group testing\n"
   ]
  },
  {
   "cell_type": "code",
   "execution_count": 13,
   "metadata": {
    "collapsed": false
   },
   "outputs": [
    {
     "name": "stdout",
     "output_type": "stream",
     "text": [
      "Best example of a harvest ale that I have tried. Drink this beer as soon as possible. Do not store it for any amount of time. This is a fresh beer So DRINK IT! Its so fresh its almost oily. You can almost taste the freshy released alpha acid. MMM Citrus, grapefruit, hints of lime. Great beer again. Long live founders \n",
      "score:\t-117.322648372\n",
      "q1 review predicted by q1 model [6.843656086860421, -117.32264837173894]\n",
      "score:\t-405.469664273\n",
      "q1 review predicted by q2 model [770.5030988347435, -405.46966427267307]\n",
      "score:\t-390.476756866\n",
      "q1 review predicted by q3 model [602.6028217261323, -390.47675686552611]\n",
      "score:\t-421.464296715\n",
      "q1 review predicted by q4 model [1001.4966056427281, -421.46429671543279]\n"
     ]
    }
   ],
   "source": [
    "review = quant1_reviews[1]\n",
    "print(review)\n",
    "print(\"q1 review predicted by q1 model\", q1SB_lm.score(review))\n",
    "print(\"q1 review predicted by q2 model\", q2SB_lm.score(review))\n",
    "print(\"q1 review predicted by q3 model\", q3SB_lm.score(review))\n",
    "print(\"q1 review predicted by q4 model\", q4SB_lm.score(review))"
   ]
  },
  {
   "cell_type": "code",
   "execution_count": 14,
   "metadata": {
    "collapsed": false
   },
   "outputs": [
    {
     "name": "stdout",
     "output_type": "stream",
     "text": [
      "Poured a very nice color.  Probably the best brown ale Ive ever tried.       \n",
      "score:\t-46.9220641455\n",
      "q2 review predicted by q1 model [36.943493761380886, -46.92206414550126]\n",
      "score:\t-28.160219934\n",
      "q2 review predicted by q2 model [8.724810635208474, -28.160219933975057]\n",
      "score:\t-53.1543896991\n",
      "q2 review predicted by q3 model [59.668199550072885, -53.15438969913783]\n",
      "score:\t-47.6122178154\n",
      "q2 review predicted by q4 model [38.95777212506173, -47.612217815382664]\n"
     ]
    }
   ],
   "source": [
    "review = quant2_reviews[1]\n",
    "print(review)\n",
    "print(\"q2 review predicted by q1 model\", q1SB_lm.score(review))\n",
    "print(\"q2 review predicted by q2 model\", q2SB_lm.score(review))\n",
    "print(\"q2 review predicted by q3 model\", q3SB_lm.score(review))\n",
    "print(\"q2 review predicted by q4 model\", q4SB_lm.score(review))"
   ]
  },
  {
   "cell_type": "code",
   "execution_count": 15,
   "metadata": {
    "collapsed": false
   },
   "outputs": [
    {
     "name": "stdout",
     "output_type": "stream",
     "text": [
      "12 pk from woodmans in Appleton. Great Winter beer, now a keeper. Heavy on the malt, coffee and cocoa. Right amount of alcohol to balance it all out!  \n",
      "score:\t-151.411976122\n",
      "q3 review predicted by q1 model [223.0889511039937, -151.41197612244218]\n",
      "score:\t-153.687063862\n",
      "q3 review predicted by q2 model [241.9724095094265, -153.68706386223101]\n",
      "score:\t-41.0764126534\n",
      "q3 review predicted by q3 model [4.336270893488051, -41.076412653395636]\n",
      "score:\t-166.232394228\n",
      "q3 review predicted by q4 model [378.7480553574962, -166.23239422834104]\n"
     ]
    }
   ],
   "source": [
    "review = quant3_reviews[1]\n",
    "print(review)\n",
    "print(\"q3 review predicted by q1 model\", q1SB_lm.score(review))\n",
    "print(\"q3 review predicted by q2 model\", q2SB_lm.score(review))\n",
    "print(\"q3 review predicted by q3 model\", q3SB_lm.score(review))\n",
    "print(\"q3 review predicted by q4 model\", q4SB_lm.score(review))"
   ]
  },
  {
   "cell_type": "code",
   "execution_count": 16,
   "metadata": {
    "collapsed": false,
    "scrolled": true
   },
   "outputs": [
    {
     "name": "stdout",
     "output_type": "stream",
     "text": [
      "Mahogany pour with a light beige head that lasts for days. Lots of cooked fruit and spice on the nose Theres also a bready character in there. A little warm on the palate but full of spice and bread notes with some cooked fruit. Solid but not especially exciting. \n",
      "score:\t-250.301199285\n",
      "q4 review predicted by q1 model [165.37038909145454, -250.30119928515015]\n",
      "score:\t-247.272487022\n",
      "q4 review predicted by q2 model [155.45826233325062, -247.27248702176936]\n",
      "score:\t-213.269351095\n",
      "q4 review predicted by q3 model [77.66741007423927, -213.26935109453206]\n",
      "score:\t-112.162344609\n",
      "q4 review predicted by q4 model [9.865338390306665, -112.16234460877533]\n"
     ]
    }
   ],
   "source": [
    "review = quant4_reviews[1]\n",
    "print(review)\n",
    "print(\"q4 review predicted by q1 model\", q1SB_lm.score(review))\n",
    "print(\"q4 review predicted by q2 model\", q2SB_lm.score(review))\n",
    "print(\"q4 review predicted by q3 model\", q3SB_lm.score(review))\n",
    "print(\"q4 review predicted by q4 model\", q4SB_lm.score(review))"
   ]
  },
  {
   "cell_type": "markdown",
   "metadata": {},
   "source": [
    "## Over 1000 reviews"
   ]
  },
  {
   "cell_type": "code",
   "execution_count": 32,
   "metadata": {
    "collapsed": false
   },
   "outputs": [],
   "source": [
    "over_10K_df = df[df.user_num_ratings >= 1000]\n",
    "over_10K_reviews = over_10K_df['review_blob'].values"
   ]
  },
  {
   "cell_type": "code",
   "execution_count": 42,
   "metadata": {
    "collapsed": true
   },
   "outputs": [],
   "source": [
    "import LanguageModel\n",
    "under30_unigram = LanguageModel.UnigramLM_Laplace()\n",
    "under30_unigram.train(under_30_reviews)\n",
    "under30_bigram = LanguageModel.BigramLM_Laplace()\n",
    "under30_bigram.train(under_30_reviews)"
   ]
  },
  {
   "cell_type": "code",
   "execution_count": 45,
   "metadata": {
    "collapsed": true
   },
   "outputs": [],
   "source": [
    "over10K_unigram = LanguageModel.UnigramLM_Laplace()\n",
    "over10K_unigram.train(over_10K_reviews)\n",
    "over10K_bigram = LanguageModel.BigramLM_Laplace()\n",
    "over10K_bigram.train(over_10K_reviews)"
   ]
  },
  {
   "cell_type": "code",
   "execution_count": 46,
   "metadata": {
    "collapsed": false
   },
   "outputs": [
    {
     "name": "stdout",
     "output_type": "stream",
     "text": [
      "under30_unigram.score(under_30_reviews[1]) [556.3317705894434, -398.24598403695342]\n",
      "over10K_unigram.score(under_30_reviews[1]) [823.2693486058333, -422.93685569247492]\n",
      "under30_unigram.score(over_10K_reviews[1]) [699.9730412407429, -334.10313291121628]\n",
      "over10K_unigram.score(over_10K_reviews[1]) [446.36997891295346, -311.15855602059315]\n",
      "---------------------------\n",
      "under30_unigram.score(under_30_reviews[1]) [1291.3775138728486, -451.29828037337978]\n",
      "over10K_unigram.score(under_30_reviews[1]) [1780.3652062085273, -471.52814903891499]\n",
      "under30_unigram.score(over_10K_reviews[1]) [2615.482402077266, -401.32939555783497]\n",
      "over10K_unigram.score(over_10K_reviews[1]) [685.1573800543237, -333.01207675264845]\n"
     ]
    }
   ],
   "source": [
    "print('under30_unigram.score(under_30_reviews[1])', under30_unigram.score(under_30_reviews[1]))\n",
    "print('over10K_unigram.score(under_30_reviews[1])', over10K_unigram.score(under_30_reviews[1]))\n",
    "print('under30_unigram.score(over_10K_reviews[1])', under30_unigram.score(over_10K_reviews[1]))\n",
    "print('over10K_unigram.score(over_10K_reviews[1])', over10K_unigram.score(over_10K_reviews[1]))\n",
    "print('---------------------------')\n",
    "print('under30_unigram.score(under_30_reviews[1])', under30_bigram.score(under_30_reviews[1]))\n",
    "print('over10K_unigram.score(under_30_reviews[1])', over10K_bigram.score(under_30_reviews[1]))\n",
    "print('under30_unigram.score(over_10K_reviews[1])', under30_bigram.score(over_10K_reviews[1]))\n",
    "print('over10K_unigram.score(over_10K_reviews[1])', over10K_bigram.score(over_10K_reviews[1]))\n"
   ]
  },
  {
   "cell_type": "markdown",
   "metadata": {},
   "source": [
    "# Testing"
   ]
  },
  {
   "cell_type": "code",
   "execution_count": 14,
   "metadata": {
    "collapsed": false
   },
   "outputs": [],
   "source": [
    "import LanguageModel"
   ]
  },
  {
   "cell_type": "code",
   "execution_count": 15,
   "metadata": {
    "collapsed": false
   },
   "outputs": [],
   "source": [
    "unigram_lm = LanguageModel.UnigramLM_Laplace()\n",
    "unigram_lm.train(reviews_shortened)"
   ]
  },
  {
   "cell_type": "code",
   "execution_count": 16,
   "metadata": {
    "collapsed": false
   },
   "outputs": [],
   "source": [
    "bigram_lm = LanguageModel.BigramLM_Laplace()\n",
    "bigram_lm.train(reviews_shortened)"
   ]
  },
  {
   "cell_type": "code",
   "execution_count": 17,
   "metadata": {
    "collapsed": false
   },
   "outputs": [],
   "source": [
    "trigram_lm = LanguageModel.TrigramLM_Laplace()\n",
    "trigram_lm.train(reviews_shortened)"
   ]
  },
  {
   "cell_type": "code",
   "execution_count": 11,
   "metadata": {
    "collapsed": false
   },
   "outputs": [
    {
     "name": "stdout",
     "output_type": "stream",
     "text": [
      "Review\n",
      "--------------\n",
      "Pours a dark amber with aroma and taste of malt and hops.  Smooth, slightly dry finish, closest thing I have had to the style over in the states.  Frequently see Ron and Bill drinking it. \n",
      "unigram [350.0144629333482, -216.74505562296719]\n",
      "bigram [497.716784288449, -229.77115473306742]\n",
      "trigram [2172.734909871731, -284.29845326439482]\n",
      "Review\n",
      "--------------\n",
      "Bottle. Pours a viscous black body producing a small tan head. Malts, roast and coffee on the nose. Hints of liquorice and chocolate as well. Taste is well balanced, light sweet, roasty and rounded off with a moderate bitterness. Lingering coffee flavors. Its full bodied with a thick texture and avg to soft carbonation. Quite nice.  \n",
      "unigram [285.42409585411696, -327.93061553068918]\n",
      "bigram [472.71173244317924, -357.19217393806861]\n",
      "trigram [2575.4293697770445, -455.51874959502595]\n",
      "Review\n",
      "--------------\n",
      "Bottle from Belmont Station. Pours a lightly hazy amber with off-white foam. Smells sweet, mild of barley and caramel. Tastes like a combination of a red and a mild barleywine, with a slight nuttiness, a hint of rose grapes and a touch of alcohol. \n",
      "unigram [245.69526919409472, -253.18823314735391]\n",
      "bigram [374.38907158944465, -272.56359553214679]\n",
      "trigram [1547.8556809541599, -337.85278774050533]\n",
      "Review\n",
      "--------------\n",
      "Black as night, virtually no head or lacing. Smells of molasses. Tastes of heavily roasted malt and coffee with molasses. Quite a fine Imperial Stout.  \n",
      "unigram [439.8059232767912, -164.3310057459027]\n",
      "bigram [630.4763705879793, -174.05484329097001]\n",
      "trigram [1989.7318886044816, -205.08538984102557]\n",
      "Review\n",
      "--------------\n",
      "Good beer. I like the different style. Sweet stout with a creamy head. Caramel with a hint of molasses sweetness. Worth trying. Left hand is a good brew co. \n",
      "unigram [199.28170643213832, -164.13630245104599]\n",
      "bigram [451.7032443762752, -189.50378818199323]\n",
      "trigram [1830.3413791089117, -232.87999100637168]\n"
     ]
    }
   ],
   "source": [
    "for ide in [100, 1000, 1100, 1200, 3]:\n",
    "    print(\"Review\\n--------------\")\n",
    "    print(reviews[ide])\n",
    "    print('unigram', unigram_lm.score(reviews[ide]))\n",
    "    print('bigram', bigram_lm.score(reviews[ide]))\n",
    "    print('trigram', trigram_lm.score(reviews[ide]))"
   ]
  },
  {
   "cell_type": "code",
   "execution_count": 16,
   "metadata": {
    "collapsed": false
   },
   "outputs": [
    {
     "name": "stdout",
     "output_type": "stream",
     "text": [
      "Best example of a harvest ale that I have tried. Drink this beer as soon as possible. Do not store it for any amount of time. This is a fresh beer So DRINK IT! Its so fresh its almost oily. You can almost taste the freshy released alpha acid. MMM Citrus, grapefruit, hints of lime. Great beer again. Long live founders \n"
     ]
    },
    {
     "data": {
      "text/plain": [
       "[301.7165760199403, -359.69774946318415]"
      ]
     },
     "execution_count": 16,
     "metadata": {},
     "output_type": "execute_result"
    }
   ],
   "source": [
    "print(reviews[1])\n",
    "unigram_lm.score(reviews[1])"
   ]
  },
  {
   "cell_type": "code",
   "execution_count": 13,
   "metadata": {
    "collapsed": false
   },
   "outputs": [
    {
     "name": "stdout",
     "output_type": "stream",
     "text": [
      "[1347.6028476360461, -72.060826246468508]\n",
      "[3077.2268274968133, -80.31784089698607]\n",
      "[2823.536856931504, -79.457455826602427]\n"
     ]
    }
   ],
   "source": [
    "sent = 'hello there friend, beer and crackers and other foods too'\n",
    "print(unigram_lm.score(sent))\n",
    "print(bigram_lm.score(sent))\n",
    "print(trigram_lm.score(sent))"
   ]
  },
  {
   "cell_type": "markdown",
   "metadata": {},
   "source": [
    "## Fit unigram, bigrams, trigrams"
   ]
  },
  {
   "cell_type": "code",
   "execution_count": 14,
   "metadata": {
    "collapsed": false
   },
   "outputs": [],
   "source": [
    "unigram_vocab = CountVectorizer(ngram_range=(1,3))\n",
    "bigram_vocab = CountVectorizer(ngram_range=(2,2))\n",
    "trigram_vocab = CountVectorizer(ngram_range=(3,3))"
   ]
  },
  {
   "cell_type": "code",
   "execution_count": 15,
   "metadata": {
    "collapsed": false
   },
   "outputs": [
    {
     "name": "stdout",
     "output_type": "stream",
     "text": [
      "unigrams 0.00477004051208\n",
      "bigrams 0.00294303894043\n",
      "trigram 0.00247001647949\n"
     ]
    }
   ],
   "source": [
    "t0 = time()\n",
    "unigram_vocab.fit_transform(reviews_shortened)\n",
    "print(\"unigrams\", time() - t0)\n",
    "\n",
    "t0 = time()\n",
    "bigram_vocab.fit_transform(reviews_shortened)\n",
    "print(\"bigrams\", time() - t0)\n",
    "\n",
    "t0 = time()\n",
    "trigram_vocab.fit_transform(reviews_shortened)\n",
    "print(\"trigram\", time() - t0)"
   ]
  },
  {
   "cell_type": "code",
   "execution_count": 16,
   "metadata": {
    "collapsed": false
   },
   "outputs": [],
   "source": [
    "# vectorizer.get_feature_names()[-100:]"
   ]
  },
  {
   "cell_type": "code",
   "execution_count": 17,
   "metadata": {
    "collapsed": false
   },
   "outputs": [
    {
     "name": "stdout",
     "output_type": "stream",
     "text": [
      "unigram counts 0.000868082046509\n",
      "bigram counts 0.000509977340698\n",
      "trigram counts 0.000485897064209\n"
     ]
    }
   ],
   "source": [
    "t0 = time()\n",
    "unigram_counts = unigram_vocab.transform(reviews_shortened)\n",
    "print(\"unigram counts\", time() - t0)\n",
    "\n",
    "\n",
    "t0 = time()\n",
    "bigram_counts = bigram_vocab.transform(reviews_shortened)\n",
    "print(\"bigram counts\", time() - t0)\n",
    "\n",
    "t0 = time()\n",
    "trigram_counts = trigram_vocab.transform(reviews_shortened)\n",
    "print(\"trigram counts\", time() - t0)"
   ]
  },
  {
   "cell_type": "code",
   "execution_count": 18,
   "metadata": {
    "collapsed": false
   },
   "outputs": [
    {
     "name": "stdout",
     "output_type": "stream",
     "text": [
      "0.00130891799927\n"
     ]
    }
   ],
   "source": [
    "unigram_dict = defaultdict(int)\n",
    "t0 = time()\n",
    "for token, count in zip(unigram_vocab.get_feature_names(), np.asarray(unigram_counts.sum(axis=0)).ravel()):\n",
    "    unigram_dict[token] = count\n",
    "print(time() - t0)"
   ]
  },
  {
   "cell_type": "code",
   "execution_count": 19,
   "metadata": {
    "collapsed": false
   },
   "outputs": [
    {
     "data": {
      "text/plain": [
       "[(u'acid', 1),\n",
       " (u'acid mmm', 1),\n",
       " (u'acid mmm citrus', 1),\n",
       " (u'again', 1),\n",
       " (u'again long', 1),\n",
       " (u'again long live', 1),\n",
       " (u'ale', 2),\n",
       " (u'ale good', 1),\n",
       " (u'ale good beer', 1),\n",
       " (u'ale that', 1),\n",
       " (u'ale that have', 1),\n",
       " (u'almost', 2),\n",
       " (u'almost oily', 1),\n",
       " (u'almost oily you', 1),\n",
       " (u'almost taste', 1),\n",
       " (u'almost taste the', 1),\n",
       " (u'alpha', 1),\n",
       " (u'alpha acid', 1),\n",
       " (u'alpha acid mmm', 1),\n",
       " (u'amount', 1),\n",
       " (u'amount of', 1),\n",
       " (u'amount of time', 1),\n",
       " (u'any', 1),\n",
       " (u'any amount', 1),\n",
       " (u'any amount of', 1),\n",
       " (u'as', 2),\n",
       " (u'as possible', 1),\n",
       " (u'as possible do', 1),\n",
       " (u'as soon', 1),\n",
       " (u'as soon as', 1),\n",
       " (u'beer', 5),\n",
       " (u'beer again', 1),\n",
       " (u'beer again long', 1),\n",
       " (u'beer as', 1),\n",
       " (u'beer as soon', 1),\n",
       " (u'beer equals', 1),\n",
       " (u'beer equals better', 1),\n",
       " (u'beer or', 1),\n",
       " (u'beer or dales', 1),\n",
       " (u'beer so', 1),\n",
       " (u'beer so drink', 1),\n",
       " (u'best', 1),\n",
       " (u'best example', 1),\n",
       " (u'best example of', 1),\n",
       " (u'better', 1),\n",
       " (u'better times', 1),\n",
       " (u'camping', 1),\n",
       " (u'camping trip', 1),\n",
       " (u'camping trip complete', 1),\n",
       " (u'can', 2),\n",
       " (u'can almost', 1),\n",
       " (u'can almost taste', 1),\n",
       " (u'can couldnt', 1),\n",
       " (u'can couldnt see', 1),\n",
       " (u'citrus', 1),\n",
       " (u'citrus grapefruit', 1),\n",
       " (u'citrus grapefruit hints', 1),\n",
       " (u'comes', 1),\n",
       " (u'comes in', 1),\n",
       " (u'comes in can', 1),\n",
       " (u'complete', 1),\n",
       " (u'complete without', 1),\n",
       " (u'complete without this', 1),\n",
       " (u'couldnt', 1),\n",
       " (u'couldnt see', 1),\n",
       " (u'couldnt see fishing', 1),\n",
       " (u'dales', 1),\n",
       " (u'dales pale', 1),\n",
       " (u'dales pale ale', 1),\n",
       " (u'do', 1),\n",
       " (u'do not', 1),\n",
       " (u'do not store', 1),\n",
       " (u'drink', 2),\n",
       " (u'drink it', 1),\n",
       " (u'drink it its', 1),\n",
       " (u'drink this', 1),\n",
       " (u'drink this beer', 1),\n",
       " (u'equals', 1),\n",
       " (u'equals better', 1),\n",
       " (u'equals better times', 1),\n",
       " (u'example', 1),\n",
       " (u'example of', 1),\n",
       " (u'example of harvest', 1),\n",
       " (u'finger', 1),\n",
       " (u'finger head', 1),\n",
       " (u'finger head love', 1),\n",
       " (u'fishing', 1),\n",
       " (u'fishing or', 1),\n",
       " (u'fishing or camping', 1),\n",
       " (u'for', 1),\n",
       " (u'for any', 1),\n",
       " (u'for any amount', 1),\n",
       " (u'founders', 1),\n",
       " (u'fresh', 2),\n",
       " (u'fresh beer', 1),\n",
       " (u'fresh beer so', 1),\n",
       " (u'fresh its', 1),\n",
       " (u'fresh its almost', 1),\n",
       " (u'freshy', 1),\n",
       " (u'freshy released', 1),\n",
       " (u'freshy released alpha', 1),\n",
       " (u'good', 1),\n",
       " (u'good beer', 1),\n",
       " (u'good beer equals', 1),\n",
       " (u'grapefruit', 1),\n",
       " (u'grapefruit hints', 1),\n",
       " (u'grapefruit hints of', 1),\n",
       " (u'great', 1),\n",
       " (u'great beer', 1),\n",
       " (u'great beer again', 1),\n",
       " (u'harvest', 1),\n",
       " (u'harvest ale', 1),\n",
       " (u'harvest ale that', 1),\n",
       " (u'have', 1),\n",
       " (u'have tried', 1),\n",
       " (u'have tried drink', 1),\n",
       " (u'head', 1),\n",
       " (u'head love', 1),\n",
       " (u'head love that', 1),\n",
       " (u'hints', 1),\n",
       " (u'hints of', 1),\n",
       " (u'hints of lime', 1),\n",
       " (u'in', 1),\n",
       " (u'in can', 1),\n",
       " (u'in can couldnt', 1),\n",
       " (u'is', 1),\n",
       " (u'is fresh', 1),\n",
       " (u'is fresh beer', 1),\n",
       " (u'it', 3),\n",
       " (u'it comes', 1),\n",
       " (u'it comes in', 1),\n",
       " (u'it for', 1),\n",
       " (u'it for any', 1),\n",
       " (u'it its', 1),\n",
       " (u'it its so', 1),\n",
       " (u'its', 2),\n",
       " (u'its almost', 1),\n",
       " (u'its almost oily', 1),\n",
       " (u'its so', 1),\n",
       " (u'its so fresh', 1),\n",
       " (u'lime', 1),\n",
       " (u'lime great', 1),\n",
       " (u'lime great beer', 1),\n",
       " (u'live', 1),\n",
       " (u'live founders', 1),\n",
       " (u'long', 1),\n",
       " (u'long live', 1),\n",
       " (u'long live founders', 1),\n",
       " (u'love', 1),\n",
       " (u'love that', 1),\n",
       " (u'love that it', 1),\n",
       " (u'mmm', 1),\n",
       " (u'mmm citrus', 1),\n",
       " (u'mmm citrus grapefruit', 1),\n",
       " (u'not', 1),\n",
       " (u'not store', 1),\n",
       " (u'not store it', 1),\n",
       " (u'of', 3),\n",
       " (u'of harvest', 1),\n",
       " (u'of harvest ale', 1),\n",
       " (u'of lime', 1),\n",
       " (u'of lime great', 1),\n",
       " (u'of time', 1),\n",
       " (u'of time this', 1),\n",
       " (u'oily', 1),\n",
       " (u'oily you', 1),\n",
       " (u'oily you can', 1),\n",
       " (u'or', 2),\n",
       " (u'or camping', 1),\n",
       " (u'or camping trip', 1),\n",
       " (u'or dales', 1),\n",
       " (u'or dales pale', 1),\n",
       " (u'pale', 1),\n",
       " (u'pale ale', 1),\n",
       " (u'pale ale good', 1),\n",
       " (u'possible', 1),\n",
       " (u'possible do', 1),\n",
       " (u'possible do not', 1),\n",
       " (u'released', 1),\n",
       " (u'released alpha', 1),\n",
       " (u'released alpha acid', 1),\n",
       " (u'see', 1),\n",
       " (u'see fishing', 1),\n",
       " (u'see fishing or', 1),\n",
       " (u'so', 2),\n",
       " (u'so drink', 1),\n",
       " (u'so drink it', 1),\n",
       " (u'so fresh', 1),\n",
       " (u'so fresh its', 1),\n",
       " (u'soon', 1),\n",
       " (u'soon as', 1),\n",
       " (u'soon as possible', 1),\n",
       " (u'store', 1),\n",
       " (u'store it', 1),\n",
       " (u'store it for', 1),\n",
       " (u'taste', 1),\n",
       " (u'taste the', 1),\n",
       " (u'taste the freshy', 1),\n",
       " (u'that', 2),\n",
       " (u'that have', 1),\n",
       " (u'that have tried', 1),\n",
       " (u'that it', 1),\n",
       " (u'that it comes', 1),\n",
       " (u'the', 1),\n",
       " (u'the freshy', 1),\n",
       " (u'the freshy released', 1),\n",
       " (u'this', 3),\n",
       " (u'this beer', 2),\n",
       " (u'this beer as', 1),\n",
       " (u'this beer or', 1),\n",
       " (u'this is', 1),\n",
       " (u'this is fresh', 1),\n",
       " (u'time', 1),\n",
       " (u'time this', 1),\n",
       " (u'time this is', 1),\n",
       " (u'times', 1),\n",
       " (u'tried', 1),\n",
       " (u'tried drink', 1),\n",
       " (u'tried drink this', 1),\n",
       " (u'trip', 1),\n",
       " (u'trip complete', 1),\n",
       " (u'trip complete without', 1),\n",
       " (u'without', 1),\n",
       " (u'without this', 1),\n",
       " (u'without this beer', 1),\n",
       " (u'you', 1),\n",
       " (u'you can', 1),\n",
       " (u'you can almost', 1)]"
      ]
     },
     "execution_count": 19,
     "metadata": {},
     "output_type": "execute_result"
    }
   ],
   "source": [
    "zip(unigram_vocab.get_feature_names(), np.asarray(unigram_counts.sum(axis=0)).ravel())"
   ]
  },
  {
   "cell_type": "code",
   "execution_count": 49,
   "metadata": {
    "collapsed": false
   },
   "outputs": [
    {
     "name": "stdout",
     "output_type": "stream",
     "text": [
      "1.65763497353\n"
     ]
    }
   ],
   "source": [
    "bigram_dict = defaultdict(int)\n",
    "t0 = time()\n",
    "for token, count in zip(bigram_vocab.get_feature_names(), np.asarray(bigram_counts.sum(axis=0)).ravel()):\n",
    "    bigram_dict[token] = count\n",
    "print(time() - t0)\n"
   ]
  },
  {
   "cell_type": "code",
   "execution_count": 36,
   "metadata": {
    "collapsed": false
   },
   "outputs": [
    {
     "data": {
      "text/plain": [
       "135"
      ]
     },
     "execution_count": 36,
     "metadata": {},
     "output_type": "execute_result"
    }
   ],
   "source": [
    "len(unigram_dict.keys())"
   ]
  },
  {
   "cell_type": "code",
   "execution_count": 37,
   "metadata": {
    "collapsed": false
   },
   "outputs": [
    {
     "data": {
      "text/plain": [
       "11"
      ]
     },
     "execution_count": 37,
     "metadata": {},
     "output_type": "execute_result"
    }
   ],
   "source": [
    "unigram_dict['beer']"
   ]
  },
  {
   "cell_type": "code",
   "execution_count": 39,
   "metadata": {
    "collapsed": false
   },
   "outputs": [
    {
     "data": {
      "text/plain": [
       "array([ 'I tried this beer back in 2007. I was working at village bottle shop and my manager broke the neck off one of the 4 bottles we had on accident. The break was perfect. None of the beer spilled and it didnt get into the beer. I poured the remaining into a nalgene bottle and saved it until I got home for a more proper tasting. I like this beer because they are pushing the envelope and just the idea of what beer is and can be. No head at all completely no carbonation. Lots of molasses and caramelized sugars. Alcohol presence heavy, very very warming. It would make for a nice beer to enjoy during the heart of winter with good friends.  ',\n",
       "       'Best example of a harvest ale that I have tried. Drink this beer as soon as possible. Do not store it for any amount of time. This is a fresh beer So DRINK IT! Its so fresh its almost oily. You can almost taste the freshy released alpha acid. MMM Citrus, grapefruit, hints of lime. Great beer again. Long live founders ',\n",
       "       '2 finger head. I love that it comes in a can. I couldnt see a fishing or camping trip complete without this beer or dales pale ale. Good beer equals better times! '], dtype=object)"
      ]
     },
     "execution_count": 39,
     "metadata": {},
     "output_type": "execute_result"
    }
   ],
   "source": [
    "reviews_shortened"
   ]
  },
  {
   "cell_type": "code",
   "execution_count": 19,
   "metadata": {
    "collapsed": false
   },
   "outputs": [],
   "source": [
    "def get_value(vocab, counts, word):\n",
    "    if word not in vocab.vocabulary_:\n",
    "        return None\n",
    "    else:\n",
    "        return counts.toarray().sum(axis=0)[vocab.vocabulary_[word]]"
   ]
  },
  {
   "cell_type": "code",
   "execution_count": 20,
   "metadata": {
    "collapsed": false
   },
   "outputs": [],
   "source": [
    "def get_leading_bigram_str(words):\n",
    "    tokens = words.split()\n",
    "    return (' ').join(tokens[:2])"
   ]
  },
  {
   "cell_type": "code",
   "execution_count": 21,
   "metadata": {
    "collapsed": true
   },
   "outputs": [],
   "source": [
    "def get_leading_unigram_str(words):\n",
    "    tokens = words.split()\n",
    "    return (' ').join(tokens[:1])"
   ]
  },
  {
   "cell_type": "code",
   "execution_count": null,
   "metadata": {
    "collapsed": false
   },
   "outputs": [],
   "source": [
    "print(get_value(bigram_vocab, bigram_counts, get_leading_bigram_str(target)))"
   ]
  },
  {
   "cell_type": "code",
   "execution_count": 17,
   "metadata": {
    "collapsed": false
   },
   "outputs": [],
   "source": [
    "target = 'alpha acid mmm'"
   ]
  },
  {
   "cell_type": "code",
   "execution_count": 243,
   "metadata": {
    "collapsed": false
   },
   "outputs": [
    {
     "data": {
      "text/plain": [
       "1"
      ]
     },
     "execution_count": 243,
     "metadata": {},
     "output_type": "execute_result"
    }
   ],
   "source": [
    "get_value(trigram_vocab, trigram_counts, 'alpha acid mmm')"
   ]
  },
  {
   "cell_type": "code",
   "execution_count": 214,
   "metadata": {
    "collapsed": false
   },
   "outputs": [
    {
     "data": {
      "text/plain": [
       "1"
      ]
     },
     "execution_count": 214,
     "metadata": {},
     "output_type": "execute_result"
    }
   ],
   "source": [
    "get_value(bigram_cv, bigram_counts, new_target)"
   ]
  },
  {
   "cell_type": "code",
   "execution_count": 203,
   "metadata": {
    "collapsed": false
   },
   "outputs": [
    {
     "data": {
      "text/plain": [
       "2"
      ]
     },
     "execution_count": 203,
     "metadata": {},
     "output_type": "execute_result"
    }
   ],
   "source": [
    "get_value(unigram_cv, unigram_counts, 'drink')"
   ]
  },
  {
   "cell_type": "code",
   "execution_count": 219,
   "metadata": {
    "collapsed": false
   },
   "outputs": [
    {
     "data": {
      "text/plain": [
       "85"
      ]
     },
     "execution_count": 219,
     "metadata": {},
     "output_type": "execute_result"
    }
   ],
   "source": [
    "total_tokens = np.sum(unigram_counts.sum(axis=1))\n",
    "total_tokens"
   ]
  },
  {
   "cell_type": "code",
   "execution_count": 223,
   "metadata": {
    "collapsed": false
   },
   "outputs": [
    {
     "data": {
      "text/plain": [
       "65"
      ]
     },
     "execution_count": 223,
     "metadata": {},
     "output_type": "execute_result"
    }
   ],
   "source": [
    "vocab_size = len(unigram_cv.vocabulary_.keys())\n",
    "vocab_size"
   ]
  },
  {
   "cell_type": "code",
   "execution_count": 204,
   "metadata": {
    "collapsed": false
   },
   "outputs": [
    {
     "data": {
      "text/plain": [
       "[(u'acid mmm citrus', 1),\n",
       " (u'again long live', 1),\n",
       " (u'ale good beer', 1),\n",
       " (u'ale that have', 1),\n",
       " (u'almost oily you', 1),\n",
       " (u'almost taste the', 1),\n",
       " (u'alpha acid mmm', 1),\n",
       " (u'amount of time', 1),\n",
       " (u'any amount of', 1),\n",
       " (u'as possible do', 1),\n",
       " (u'as soon as', 1),\n",
       " (u'beer again long', 1),\n",
       " (u'beer as soon', 1),\n",
       " (u'beer equals better', 1),\n",
       " (u'beer or dales', 1),\n",
       " (u'beer so drink', 1),\n",
       " (u'best example of', 1),\n",
       " (u'camping trip complete', 1),\n",
       " (u'can almost taste', 1),\n",
       " (u'can couldnt see', 1),\n",
       " (u'citrus grapefruit hints', 1),\n",
       " (u'comes in can', 1),\n",
       " (u'complete without this', 1),\n",
       " (u'couldnt see fishing', 1),\n",
       " (u'dales pale ale', 1),\n",
       " (u'do not store', 1),\n",
       " (u'drink it its', 1),\n",
       " (u'drink this beer', 1),\n",
       " (u'equals better times', 1),\n",
       " (u'example of harvest', 1),\n",
       " (u'finger head love', 1),\n",
       " (u'fishing or camping', 1),\n",
       " (u'for any amount', 1),\n",
       " (u'fresh beer so', 1),\n",
       " (u'fresh its almost', 1),\n",
       " (u'freshy released alpha', 1),\n",
       " (u'good beer equals', 1),\n",
       " (u'grapefruit hints of', 1),\n",
       " (u'great beer again', 1),\n",
       " (u'harvest ale that', 1),\n",
       " (u'have tried drink', 1),\n",
       " (u'head love that', 1),\n",
       " (u'hints of lime', 1),\n",
       " (u'in can couldnt', 1),\n",
       " (u'is fresh beer', 1),\n",
       " (u'it comes in', 1),\n",
       " (u'it for any', 1),\n",
       " (u'it its so', 1),\n",
       " (u'its almost oily', 1),\n",
       " (u'its so fresh', 1),\n",
       " (u'lime great beer', 1),\n",
       " (u'long live founders', 1),\n",
       " (u'love that it', 1),\n",
       " (u'mmm citrus grapefruit', 1),\n",
       " (u'not store it', 1),\n",
       " (u'of harvest ale', 1),\n",
       " (u'of lime great', 1),\n",
       " (u'of time this', 1),\n",
       " (u'oily you can', 1),\n",
       " (u'or camping trip', 1),\n",
       " (u'or dales pale', 1),\n",
       " (u'pale ale good', 1),\n",
       " (u'possible do not', 1),\n",
       " (u'released alpha acid', 1),\n",
       " (u'see fishing or', 1),\n",
       " (u'so drink it', 1),\n",
       " (u'so fresh its', 1),\n",
       " (u'soon as possible', 1),\n",
       " (u'store it for', 1),\n",
       " (u'taste the freshy', 1),\n",
       " (u'that have tried', 1),\n",
       " (u'that it comes', 1),\n",
       " (u'the freshy released', 1),\n",
       " (u'this beer as', 1),\n",
       " (u'this beer or', 1),\n",
       " (u'this is fresh', 1),\n",
       " (u'time this is', 1),\n",
       " (u'tried drink this', 1),\n",
       " (u'trip complete without', 1),\n",
       " (u'without this beer', 1),\n",
       " (u'you can almost', 1)]"
      ]
     },
     "execution_count": 204,
     "metadata": {},
     "output_type": "execute_result"
    }
   ],
   "source": [
    "zip(trigram_cv.get_feature_names(),\n",
    "    np.asarray(trigram_counts.sum(axis=0)).ravel())"
   ]
  },
  {
   "cell_type": "code",
   "execution_count": 129,
   "metadata": {
    "collapsed": false
   },
   "outputs": [
    {
     "data": {
      "text/plain": [
       "array([ 'Best example of a harvest ale that I have tried. Drink this beer as soon as possible. Do not store it for any amount of time. This is a fresh beer So DRINK IT! Its so fresh its almost oily. You can almost taste the freshy released alpha acid. MMM Citrus, grapefruit, hints of lime. Great beer again. Long live founders ',\n",
       "       '2 finger head. I love that it comes in a can. I couldnt see a fishing or camping trip complete without this beer or dales pale ale. Good beer equals better times! '], dtype=object)"
      ]
     },
     "execution_count": 129,
     "metadata": {},
     "output_type": "execute_result"
    }
   ],
   "source": [
    "reviews_shortened"
   ]
  },
  {
   "cell_type": "code",
   "execution_count": 20,
   "metadata": {
    "collapsed": true
   },
   "outputs": [],
   "source": [
    "pipeline = Pipeline([\n",
    "    ('vect', CountVectorizer()),\n",
    "    ('tfidf', TfidfTransformer()),\n",
    "    ('clf', SGDClassifier()),\n",
    "])\n",
    "\n",
    "# uncommenting more parameters will give better exploring power but will\n",
    "# increase processing time in a combinatorial way\n",
    "parameters = {\n",
    "    'vect__max_df': (0.5, 0.75, 1.0),\n",
    "    #'vect__max_features': (None, 5000, 10000, 50000),\n",
    "    'vect__ngram_range': ((1, 1), (1, 2)),  # unigrams or bigrams\n",
    "    #'tfidf__use_idf': (True, False),\n",
    "    #'tfidf__norm': ('l1', 'l2'),\n",
    "    'clf__alpha': (0.00001, 0.000001),\n",
    "    'clf__penalty': ('l2', 'elasticnet'),\n",
    "    #'clf__n_iter': (10, 50, 80),\n",
    "}"
   ]
  },
  {
   "cell_type": "code",
   "execution_count": null,
   "metadata": {
    "collapsed": true
   },
   "outputs": [],
   "source": []
  },
  {
   "cell_type": "code",
   "execution_count": 21,
   "metadata": {
    "collapsed": false
   },
   "outputs": [
    {
     "name": "stdout",
     "output_type": "stream",
     "text": [
      "Performing grid search...\n",
      "pipeline: ['vect', 'tfidf', 'clf']\n",
      "parameters:\n",
      "{'clf__alpha': (1e-05, 1e-06),\n",
      " 'clf__penalty': ('l2', 'elasticnet'),\n",
      " 'vect__max_df': (0.5, 0.75, 1.0),\n",
      " 'vect__ngram_range': ((1, 1), (1, 2))}\n",
      "Fitting 3 folds for each of 24 candidates, totalling 72 fits\n"
     ]
    },
    {
     "name": "stderr",
     "output_type": "stream",
     "text": [
      "[Parallel(n_jobs=-1)]: Done   1 jobs       | elapsed:    0.7s\n",
      "[Parallel(n_jobs=-1)]: Done  50 jobs       | elapsed:   17.2s\n",
      "[Parallel(n_jobs=-1)]: Done  66 out of  72 | elapsed:   24.6s remaining:    2.2s\n",
      "[Parallel(n_jobs=-1)]: Done  72 out of  72 | elapsed:   26.3s finished\n"
     ]
    },
    {
     "name": "stdout",
     "output_type": "stream",
     "text": [
      "done in 27.834s\n",
      "\n",
      "Best score: 0.936\n",
      "Best parameters set:\n",
      "\tclf__alpha: 1e-05\n",
      "\tclf__penalty: 'l2'\n",
      "\tvect__max_df: 0.5\n",
      "\tvect__ngram_range: (1, 2)\n"
     ]
    }
   ],
   "source": [
    "grid_search = GridSearchCV(pipeline, parameters, n_jobs=-1, verbose=1)\n",
    "\n",
    "print(\"Performing grid search...\")\n",
    "print(\"pipeline:\", [name for name, _ in pipeline.steps])\n",
    "print(\"parameters:\")\n",
    "pprint(parameters)\n",
    "t0 = time()\n",
    "grid_search.fit(data.data, data.target)\n",
    "print(\"done in %0.3fs\" % (time() - t0))\n",
    "print()\n",
    "\n",
    "print(\"Best score: %0.3f\" % grid_search.best_score_)\n",
    "print(\"Best parameters set:\")\n",
    "best_parameters = grid_search.best_estimator_.get_params()\n",
    "for param_name in sorted(parameters.keys()):\n",
    "    print(\"\\t%s: %r\" % (param_name, best_parameters[param_name]))\n",
    "        "
   ]
  },
  {
   "cell_type": "code",
   "execution_count": null,
   "metadata": {
    "collapsed": true
   },
   "outputs": [],
   "source": []
  }
 ],
 "metadata": {
  "kernelspec": {
   "display_name": "Python 2",
   "language": "python",
   "name": "python2"
  },
  "language_info": {
   "codemirror_mode": {
    "name": "ipython",
    "version": 2
   },
   "file_extension": ".py",
   "mimetype": "text/x-python",
   "name": "python",
   "nbconvert_exporter": "python",
   "pygments_lexer": "ipython2",
   "version": "2.7.11"
  }
 },
 "nbformat": 4,
 "nbformat_minor": 0
}
